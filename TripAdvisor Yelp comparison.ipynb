{
 "cells": [
  {
   "cell_type": "code",
   "execution_count": 90,
   "metadata": {
    "collapsed": true
   },
   "outputs": [],
   "source": [
    "import urllib2\n",
    "import os\n",
    "from bs4 import BeautifulSoup\n",
    "import numpy as np\n",
    "import pandas as pd\n",
    "from nltk.tokenize import RegexpTokenizer\n",
    "from nltk.corpus import stopwords\n",
    "from nltk.stem.porter import PorterStemmer\n",
    "from gensim import corpora, models\n",
    "import gensim\n",
    "tokenizer = RegexpTokenizer(r'\\w+')\n",
    "import sys\n",
    "from __future__ import division\n",
    "import pandas as pd\n",
    "import pyLDAvis\n",
    "#import pyLDAvis.graphlab\n",
    "from nltk.tokenize import RegexpTokenizer\n",
    "from nltk.corpus import stopwords\n",
    "from nltk.stem.porter import PorterStemmer\n",
    "from gensim import corpora, models\n",
    "import gensim\n",
    "import pyLDAvis.gensim\n",
    "import csv "
   ]
  },
  {
   "cell_type": "code",
   "execution_count": 91,
   "metadata": {
    "collapsed": false
   },
   "outputs": [],
   "source": [
    "#Import excel file of the tokens from the Yelp topic model\n",
    "Yelp_tokens = pd.DataFrame.from_csv('/Users/jessica/Documents/Capstone/Yelp_tokens.csv')\n",
    "Y1 = list(Yelp_tokens.ix[1,:])\n",
    "Y2 = list(Yelp_tokens.ix[2,:])\n",
    "Y3 = list(Yelp_tokens.ix[3,:])\n",
    "Y4 = list(Yelp_tokens.ix[4,:])\n",
    "Y5 = list(Yelp_tokens.ix[5,:])\n",
    "Y6 = list(Yelp_tokens.ix[6,:])\n",
    "Y7 = list(Yelp_tokens.ix[7,:])\n",
    "Y8 = list(Yelp_tokens.ix[8,:])\n",
    "Y9 = list(Yelp_tokens.ix[9,:])\n",
    "Y10 = list(Yelp_tokens.ix[10,:])\n",
    "Y11 = list(Yelp_tokens.ix[11,:])\n",
    "Y12 = list(Yelp_tokens.ix[12,:])\n",
    "Y13 = list(Yelp_tokens.ix[13,:])\n",
    "Y14 = list(Yelp_tokens.ix[14,:])\n",
    "Y15 = list(Yelp_tokens.ix[15,:])\n",
    "Y16 = list(Yelp_tokens.ix[16,:])\n",
    "Y17 = list(Yelp_tokens.ix[17,:])\n",
    "Y18 = list(Yelp_tokens.ix[18,:])\n",
    "Y19 = list(Yelp_tokens.ix[19,:])\n",
    "Y20 = list(Yelp_tokens.ix[20,:])\n",
    "Y21 = list(Yelp_tokens.ix[21,:])\n",
    "Y22 = list(Yelp_tokens.ix[22,:])\n",
    "Y23 = list(Yelp_tokens.ix[23,:])\n",
    "Y24 = list(Yelp_tokens.ix[24,:])\n",
    "Y25 = list(Yelp_tokens.ix[25,:])\n",
    "Y26 = list(Yelp_tokens.ix[26,:])\n",
    "Y27 = list(Yelp_tokens.ix[27,:])\n",
    "Y28 = list(Yelp_tokens.ix[28,:])\n",
    "Y29 = list(Yelp_tokens.ix[29,:])\n",
    "Y30 = list(Yelp_tokens.ix[30,:])\n",
    "Y31 = list(Yelp_tokens.ix[31,:])\n",
    "Y32 = list(Yelp_tokens.ix[32,:])\n",
    "Y33 = list(Yelp_tokens.ix[33,:])\n",
    "Y34 = list(Yelp_tokens.ix[34,:])\n",
    "Y35 = list(Yelp_tokens.ix[35,:])"
   ]
  },
  {
   "cell_type": "code",
   "execution_count": 92,
   "metadata": {
    "collapsed": false
   },
   "outputs": [],
   "source": [
    "#Import excel file of the tokens from the TripAdvisor topic model\n",
    "TripA_tokens = pd.DataFrame.from_csv('/Users/jessica/Documents/Capstone/TripA_tokens.csv')\n",
    "T1 = list(TripA_tokens.ix[1,:])\n",
    "T2 = list(TripA_tokens.ix[2,:])\n",
    "T3 = list(TripA_tokens.ix[3,:])\n",
    "T4 = list(TripA_tokens.ix[4,:])\n",
    "T5 = list(TripA_tokens.ix[5,:])\n",
    "T6 = list(TripA_tokens.ix[6,:])\n",
    "T7 = list(TripA_tokens.ix[7,:])\n",
    "T8 = list(TripA_tokens.ix[8,:])\n",
    "T9 = list(TripA_tokens.ix[9,:])\n",
    "T10 = list(TripA_tokens.ix[10,:])\n",
    "T11 = list(TripA_tokens.ix[11,:])\n",
    "T12 = list(TripA_tokens.ix[12,:])\n",
    "T13 = list(TripA_tokens.ix[13,:])\n",
    "T14 = list(TripA_tokens.ix[14,:])\n",
    "T15 = list(TripA_tokens.ix[15,:])\n",
    "T16 = list(TripA_tokens.ix[16,:])\n",
    "T17 = list(TripA_tokens.ix[17,:])\n",
    "T18 = list(TripA_tokens.ix[18,:])\n",
    "T19 = list(TripA_tokens.ix[19,:])\n",
    "T20 = list(TripA_tokens.ix[20,:])\n",
    "T21 = list(TripA_tokens.ix[21,:])\n",
    "T22 = list(TripA_tokens.ix[22,:])\n",
    "T23 = list(TripA_tokens.ix[23,:])\n",
    "T24 = list(TripA_tokens.ix[24,:])\n",
    "T25 = list(TripA_tokens.ix[25,:])\n",
    "T26 = list(TripA_tokens.ix[26,:])\n",
    "T27 = list(TripA_tokens.ix[27,:])\n",
    "T28 = list(TripA_tokens.ix[28,:])\n",
    "T29 = list(TripA_tokens.ix[29,:])\n",
    "T30 = list(TripA_tokens.ix[30,:])\n",
    "T31 = list(TripA_tokens.ix[31,:])\n",
    "T32 = list(TripA_tokens.ix[32,:])\n",
    "T33 = list(TripA_tokens.ix[33,:])\n",
    "T34 = list(TripA_tokens.ix[34,:])\n",
    "T35 = list(TripA_tokens.ix[35,:])"
   ]
  },
  {
   "cell_type": "code",
   "execution_count": 101,
   "metadata": {
    "collapsed": false
   },
   "outputs": [],
   "source": [
    "#Create empty list to loop for and add each property's token on Yelp and TripAdvisor to a total list of lists\n",
    "Tokens = [Y1, Y2, Y3, Y4, Y5, Y6, Y7, Y8, Y9, Y10, Y11, Y12, Y13, Y14, Y15, Y16, Y17, Y18, Y19, Y20, Y21, Y22, Y23, Y24, Y25, Y26, Y27, Y28, Y29, Y30, Y31, Y32, Y33, Y34, Y35, T1, T2, T3, T4, T5, T6, T7, T8, T9, T10, T11, T12, T13, T14, T15, T16, T17, T18, T19, T20, T21, T22, T23, T24, T25, T26, T27, T28, T29, T30, T31, T32, T33, T34, T35]\n",
    "Text = []"
   ]
  },
  {
   "cell_type": "code",
   "execution_count": 102,
   "metadata": {
    "collapsed": true
   },
   "outputs": [],
   "source": [
    "#Convert tokens to strings\n",
    "Tokens2 = [[] for i in range(len(Tokens))]\n",
    "\n",
    "for i in range(len(Tokens)):\n",
    "    Tokens2[i] = str(Tokens[i])"
   ]
  },
  {
   "cell_type": "code",
   "execution_count": 103,
   "metadata": {
    "collapsed": false
   },
   "outputs": [],
   "source": [
    "#loop through Token lists to create a total token list to feed into lda\n",
    "for i in Tokens2:    \n",
    "    # clean and tokenize document string\n",
    "    raw = i.lower()\n",
    "    tokens = tokenizer.tokenize(raw)\n",
    "    #decode to utf-8\n",
    "    stopped_tokens = [i.decode('utf-8','ignore').encode(\"utf-8\") for i in tokens]\n",
    "    # add tokens to list\n",
    "    Text.append(stopped_tokens)"
   ]
  },
  {
   "cell_type": "code",
   "execution_count": 104,
   "metadata": {
    "collapsed": false
   },
   "outputs": [],
   "source": [
    "#Remove the nan entries in the list\n",
    "Text2 = [[] for i in range(len(Text))]\n",
    "\n",
    "for i in range(len(Text)):\n",
    "    Text2[i] = [x for x in Text[i] if str(x) != 'nan']"
   ]
  },
  {
   "cell_type": "code",
   "execution_count": 105,
   "metadata": {
    "collapsed": false
   },
   "outputs": [],
   "source": [
    "#Turn our tokenized documents into a id <-> term dictionary\n",
    "TY_dict = corpora.Dictionary(Text2)\n",
    "#Convert tokenized documents into a document-term matrix\n",
    "TY_corpus = [TY_dict.doc2bow(text) for text in Text2]"
   ]
  },
  {
   "cell_type": "code",
   "execution_count": 106,
   "metadata": {
    "collapsed": false
   },
   "outputs": [],
   "source": [
    "# generate LDA model\n",
    "TY_ldamodel = gensim.models.ldamodel.LdaModel(TY_corpus, num_topics=7, id2word = TY_dict, passes=20)"
   ]
  },
  {
   "cell_type": "code",
   "execution_count": 107,
   "metadata": {
    "collapsed": false
   },
   "outputs": [
    {
     "name": "stdout",
     "output_type": "stream",
     "text": [
      "[(0, u'0.000*\"clean\" + 0.000*\"service\" + 0.000*\"staff\" + 0.000*\"place\" + 0.000*\"view\" + 0.000*\"desk\" + 0.000*\"bed\" + 0.000*\"comfortable\" + 0.000*\"front\" + 0.000*\"day\"'), (1, u'0.001*\"poor\" + 0.001*\"jaime\" + 0.001*\"stephanie\" + 0.001*\"hr\" + 0.001*\"stained\" + 0.001*\"furnishings\" + 0.001*\"bthe\" + 0.001*\"mobile\" + 0.001*\"outdated\" + 0.001*\"miami\"'), (2, u'0.010*\"staff\" + 0.009*\"service\" + 0.006*\"clean\" + 0.005*\"view\" + 0.005*\"friendly\" + 0.004*\"area\" + 0.004*\"lobby\" + 0.004*\"place\" + 0.004*\"front\" + 0.004*\"desk\"'), (3, u'0.000*\"staff\" + 0.000*\"service\" + 0.000*\"clean\" + 0.000*\"lobby\" + 0.000*\"desk\" + 0.000*\"area\" + 0.000*\"place\" + 0.000*\"front\" + 0.000*\"parking\" + 0.000*\"bar\"'), (4, u'0.008*\"pool\" + 0.008*\"staff\" + 0.008*\"hollywood\" + 0.007*\"sunset\" + 0.007*\"view\" + 0.005*\"free\" + 0.005*\"complimentary\" + 0.005*\"service\" + 0.004*\"wine\" + 0.004*\"west\"'), (5, u'0.011*\"pool\" + 0.006*\"brickell\" + 0.004*\"beautiful\" + 0.004*\"15th\" + 0.003*\"amazing\" + 0.003*\"viceroy\" + 0.003*\"spa\" + 0.002*\"miami\" + 0.002*\"view\" + 0.002*\"la\"'), (6, u'0.007*\"service\" + 0.007*\"staff\" + 0.005*\"desk\" + 0.005*\"clean\" + 0.004*\"front\" + 0.004*\"view\" + 0.004*\"bar\" + 0.004*\"place\" + 0.004*\"lobby\" + 0.004*\"day\"')]\n"
     ]
    }
   ],
   "source": [
    "print(TY_ldamodel.print_topics(num_topics=7, num_words=10))"
   ]
  },
  {
   "cell_type": "code",
   "execution_count": 108,
   "metadata": {
    "collapsed": false,
    "scrolled": false
   },
   "outputs": [
    {
     "data": {
      "text/html": [
       "\n",
       "<link rel=\"stylesheet\" type=\"text/css\" href=\"https://cdn.rawgit.com/bmabey/pyLDAvis/files/ldavis.v1.0.0.css\">\n",
       "\n",
       "\n",
       "<div id=\"ldavis_el135548017840163275593306\"></div>\n",
       "<script type=\"text/javascript\">\n",
       "\n",
       "var ldavis_el135548017840163275593306_data = {\"plot.opts\": {\"xlab\": \"PC1\", \"ylab\": \"PC2\"}, \"topic.order\": [7, 3, 5, 6, 2, 4, 1], \"token.table\": {\"Topic\": [1, 2, 3, 4, 1, 2, 3, 1, 2, 3, 4, 1, 2, 3, 1, 2, 4, 1, 2, 1, 2, 3, 1, 2, 3, 1, 2, 3, 4, 1, 2, 1, 2, 3, 4, 1, 2, 3, 1, 2, 3, 1, 2, 1, 2, 3, 4, 1, 2, 4, 1, 1, 2, 3, 1, 2, 4, 1, 2, 3, 1, 2, 1, 2, 2, 1, 2, 4, 1, 2, 3, 4, 1, 2, 3, 1, 2, 3, 1, 2, 3, 3, 2, 1, 1, 2, 4, 1, 2, 3, 1, 2, 3, 3, 2, 3, 1, 2, 1, 2, 3, 2, 4, 1, 2, 1, 2, 1, 2, 2, 1, 2, 1, 4, 2, 1, 2, 3, 1, 1, 2, 1, 1, 2, 3, 1, 2, 3, 1, 2, 3, 4, 1, 2, 3, 4, 1, 3, 3, 1, 2, 3, 1, 2, 4, 1, 2, 3, 1, 2, 3, 4, 1, 2, 1, 2, 3, 2, 4, 3, 1, 2, 3, 1, 2, 3, 4, 3, 1, 2, 3, 4, 1, 2, 3, 1, 2, 2, 1, 2, 3, 1, 2, 3, 3, 4, 2, 1, 2, 3, 1, 2, 3, 1, 2, 3, 4, 2, 1, 1, 2, 2, 1, 3, 1, 2, 4, 1, 2, 3, 4, 4, 1, 4, 1, 2, 3, 1, 2, 3, 4, 1, 2, 3, 1, 2, 3, 1, 3, 1, 2, 3, 3, 1, 1, 2, 3, 3, 2, 1, 2, 3, 2, 4, 1, 2, 3, 1, 2, 2, 1, 2, 1, 2, 3, 1, 2, 3, 1, 2, 3, 4, 4, 1, 2, 1, 2, 3, 1, 3, 1, 2, 3, 4, 1, 2, 3, 2, 4, 1, 1, 2, 1, 2, 3, 4, 3, 1, 1, 2, 1, 2, 1, 1, 2, 3, 4, 1, 2, 3, 1, 2, 1, 2, 3, 1, 2, 3, 2, 3, 1, 2, 1, 2, 3, 2, 3, 2, 4, 3, 3, 1, 2, 3, 4, 1, 1, 3, 1, 2, 1, 2, 1, 3, 1, 2, 3, 4, 1, 2, 3, 1, 2, 1, 2, 3, 4, 2, 4, 1, 2, 3, 1, 2, 1, 2, 4, 1, 2, 1, 2, 1, 2, 3, 2, 2, 1, 2, 3, 4, 1, 2, 3, 1, 2, 3, 1, 2, 3, 3, 3, 1, 1, 2, 1, 1, 2, 1, 2, 3, 1, 2, 3, 1, 1, 3, 1, 2, 3, 4, 1, 2, 3, 1, 2, 3, 4, 1, 2, 4, 1, 2, 3, 4, 1, 2, 2, 1, 1, 2, 3, 1, 2, 1, 2, 3, 2, 4, 3, 1, 4, 1, 2, 3, 2, 1, 3, 1, 1, 4, 4, 1, 2, 3, 4, 1, 3, 1, 2, 3, 3, 4, 1, 2, 3, 1, 2, 3, 4, 2, 1, 2, 1, 1, 2, 2, 4, 1, 2, 3, 3, 1, 2, 3, 4, 1, 2, 1, 2, 1, 2, 3, 2, 1, 1, 4, 1, 2, 3, 1, 2, 3, 1, 2, 3, 1, 2, 1, 2, 3, 4, 1, 2, 3, 4, 1, 2, 1, 2, 3, 4, 1, 2, 1, 2, 1, 2, 4, 1, 1, 2, 3, 1, 1, 2, 3, 1, 2, 3, 1, 2, 3, 4, 1, 2, 4, 1, 2, 3, 2, 1, 1, 2, 3, 4, 1, 2, 3, 1, 2, 1, 2, 1, 1, 2, 3, 2, 1, 2, 1, 2, 3, 4, 1, 1, 2, 1, 1, 1, 2, 3, 4, 2, 3, 4, 1, 2, 3, 4, 1, 2, 3, 1, 2, 3, 4, 1, 2, 3, 4, 2, 3, 1, 2, 3, 4, 1, 2, 3, 1, 3, 1, 2, 3, 4, 1, 2, 3, 1, 2, 3, 2, 4, 4, 1, 2, 3, 4, 4], \"Freq\": [0.30995343124515634, 0.3874417890564454, 0.07748835781128909, 0.30995343124515634, 0.7840660031094773, 0.20596360678696715, 0.009361982126680326, 0.657576244791682, 0.3235359159677924, 0.01680706056975545, 0.0021008825712194312, 0.6692055505414687, 0.32189634076678236, 0.008470956335967957, 0.48719382472518324, 0.36539536854388743, 0.24359691236259162, 0.9595464621234222, 1.001612085825799, 0.6181998828717432, 0.05619998935197665, 0.28099994675988327, 0.5625916224139129, 0.42981999952422945, 0.006751099468966955, 0.4885107630502716, 0.46660445080586477, 0.037240730815491556, 0.006571893673322039, 0.27389372761028996, 0.7244930859368961, 0.5447420212862434, 0.43769072854591196, 0.017616035514231753, 0.001355079654940904, 0.6635138309697378, 0.32549735104175814, 0.010432607405184556, 0.7890848950284365, 0.20373913273275202, 0.006467908975642921, 0.9212966253445953, 0.06953182078072417, 0.5811386186726043, 0.36321163667037765, 0.05327104004498873, 0.9766582316826743, 0.464204496123123, 0.5143887659742714, 0.025092134925574217, 0.9531917965888302, 0.6586263982954924, 0.33113933518738253, 0.009739392211393604, 0.4922429242911806, 0.4725532073195334, 0.019689716971647224, 0.7592600123652228, 0.22875141398182994, 0.011356453176402903, 0.9520129676467955, 0.03966720698528315, 0.15550362073840346, 0.8411332212668188, 0.9293610048462472, 0.046022093457911875, 0.9480551252329846, 0.009204418691582375, 0.49659170983816003, 0.4585872422485049, 0.03547083641701143, 0.010134524690574694, 0.6747946122534324, 0.32059744026148557, 0.005599955288410228, 0.539185945439611, 0.44622285139829876, 0.013944464106196836, 0.7247558520204892, 0.09453337200267249, 0.18906674400534498, 0.6275959829353306, 0.9766752282806153, 0.9808821690845525, 0.5092359591295064, 0.42436329927458866, 0.04243632992745887, 0.309853063438392, 0.37870929975803463, 0.27542494527857064, 0.8305306801972197, 0.14886870682780354, 0.01567039019240037, 0.6274395882950666, 0.6928953763612079, 0.3079535006049813, 0.9476106828619326, 0.039483778452580526, 0.6536821657329828, 0.3322884342475996, 0.014526270349621841, 0.7384541315890583, 0.27206204848017934, 0.9420480239015044, 0.037681920956060176, 0.06087589050991307, 0.913138357648696, 0.06597901691869056, 0.9237062368616676, 0.940929656049081, 0.9490589547777979, 0.03272617085440682, 0.6882951111703302, 0.22943170372344338, 1.001433796500228, 0.1658436041607734, 0.8181617805264821, 0.014741653703179858, 0.9659540635982861, 0.7985549153628778, 0.20118631588599634, 0.953149216228806, 0.5995993796828265, 0.3903052565859908, 0.009427663202560164, 0.5797103648422485, 0.41770376456646857, 0.0039037735006212018, 0.672995065953495, 0.29129637183061724, 0.020089404953835672, 0.010044702476917836, 0.6932390003789625, 0.28425699597129, 0.020304071140806432, 0.002900581591543776, 0.2643015922966789, 0.5286031845933578, 0.7219949295090229, 0.5872904817287637, 0.3971057402362884, 0.015214779319398025, 0.07542134351342221, 0.9050561221610666, 0.976668754254206, 0.698903126542276, 0.18054997435675466, 0.1223080471448983, 0.49989055200491145, 0.37491791400368357, 0.06248631900061393, 0.06248631900061393, 0.9633482781373003, 0.024083706953432506, 0.5188437259769715, 0.4022496302518094, 0.07578616222135538, 0.5085645752689969, 0.5085645752689969, 0.7220771245236594, 0.03363176153733777, 0.9669131441984609, 0.9948613612407606, 0.6468294148778954, 0.3397487835722279, 0.011760534815961734, 0.0013067260906624149, 0.9948368403587792, 0.30267463432314773, 0.43239233474735383, 0.21619616737367692, 0.043239233474735385, 0.6586721948591147, 0.31009653160033923, 0.03168869665988868, 0.033807851273616206, 0.9466198356612539, 1.0015470214891322, 0.6950943978221474, 0.298825628970269, 0.00649620932544063, 0.957893794992878, 0.03756446254874031, 0.018782231274370155, 0.6276308720865136, 0.976691669764216, 0.9916962620107713, 0.7567464954554826, 0.24215887854575444, 0.0027518054380199367, 0.44107483568157163, 0.549697742976287, 0.009874809754065036, 0.6553053187632292, 0.29867657385807045, 0.04012073380183036, 0.0044578593113144835, 1.0016837729047134, 0.9600663108688429, 0.8543557141305703, 0.13965429942518937, 1.0015490251072545, 0.4753598895455995, 0.4753598895455995, 0.6466713344798272, 0.21555711149327575, 0.21555711149327575, 0.401511499952223, 0.5866054538309075, 0.011390397161765193, 0.0028475992904412983, 0.9767132401662928, 0.9569590198812876, 0.9767135454035761, 0.720206836741065, 0.27065097686447664, 0.009174609385236497, 0.6611974237235253, 0.3164705617822001, 0.011302520063650005, 0.011302520063650005, 0.6041756696869228, 0.37287409317311737, 0.021933770186653965, 0.4368592195976312, 0.5417054323010626, 0.019970707181605995, 0.312911798843575, 0.62582359768715, 0.5916773443121538, 0.38909216664005764, 0.019293826444961536, 0.9948447431581436, 0.9620618404702631, 0.18258865651093442, 0.8168439896541803, 0.9948078912346324, 0.9165494811962752, 1.0016966111578904, 0.6511544343414203, 0.3407410875594829, 0.007135939006481317, 0.5085650440397155, 0.5085650440397155, 0.6831214797734378, 0.31110833657151743, 0.0049382275646272615, 0.049504903695830244, 0.9405931702207746, 1.000811703754993, 0.04218248268068708, 0.9596514809856311, 0.6750514198204312, 0.2845420228894259, 0.041209534349503064, 0.5172737918338138, 0.46302312586099925, 0.018924650920749287, 0.6667015718607385, 0.3253594999662851, 0.006849673683500739, 0.0011416122805834564, 0.9766730619835448, 0.8520483867605844, 0.1503614800165737, 0.09785827368269139, 0.8807244631442225, 0.6275029727795299, 0.9715047108076236, 0.9948822378761549, 0.6949820172445755, 0.2978494359619609, 0.0051353351027924295, 0.0017117783675974765, 0.7504630445929388, 0.244157497384689, 0.005140157839677664, 0.5085892657384213, 0.5085892657384213, 0.9678596391280117, 0.9357807921520793, 0.06579708694819308, 0.6163938953950063, 0.3698363372370038, 0.004741491503038511, 0.009482983006077021, 0.9948500753456493, 0.9597385349993816, 0.951148347076228, 0.03658262873370108, 0.4457439967023644, 0.5501525004344497, 0.9626659981340191, 0.5306927566508418, 0.45160913016953985, 0.01664918452237935, 0.976668415409518, 0.3578484067714935, 0.4920415593108035, 0.13419315253931005, 0.08005188781898344, 0.8805707660088178, 0.11894906314960615, 0.6698710398425188, 0.20659574125984226, 0.8365847052102766, 0.11951210074432524, 0.11951210074432524, 0.9169045702213582, 0.627588231510763, 0.9662986750092044, 0.031170925000296917, 0.05763482516237608, 0.9797920277603934, 0.627591877381286, 1.0199554821731462, 0.6275866441126765, 0.7001807305664585, 0.23339357685548617, 0.9948751280559639, 0.6275983674876073, 0.45447101560594855, 0.43699136115956594, 0.09322482371404073, 0.011653102964255091, 0.9566346225406447, 0.3129203340402088, 0.6258406680804176, 0.03379935476163574, 0.9463819333258006, 0.03735117806387461, 0.9337794515968653, 0.9831017169498698, 0.9948418696936104, 0.6622740319209784, 0.3239159595376748, 0.01237895386768184, 0.0020631589779469732, 0.6365565616227964, 0.35390644657386816, 0.00950084420332532, 0.9773272315926266, 1.0016090842723435, 0.5111029030389309, 0.41451652766149516, 0.06841534922568367, 0.004024432307393157, 0.3886715346169945, 0.3886715346169945, 0.6339685445265647, 0.34560090795371756, 0.01761023734796013, 0.16710057770221645, 0.8355028885110823, 0.04570484444711655, 0.9445667852404086, 0.011426211111779137, 0.9233119130587537, 0.0879344679103575, 0.6973174672579033, 0.3099188743368459, 0.5637857124856563, 0.40310678442724424, 0.031008214186711097, 0.9307291958811676, 0.934196790334507, 0.4145720565852826, 0.548304978064406, 0.013373292147912342, 0.026746584295824685, 0.776737204975953, 0.21791793806269794, 0.006472810041466275, 0.7175891301665586, 0.27777643748382913, 0.0038580060761642934, 0.6449316088721392, 0.3389280226805536, 0.015493852465396737, 0.9948318364804238, 0.6275820036769066, 0.9489605484624019, 0.7754408979261095, 0.22357602531446222, 0.9489476597413661, 0.5400719494187914, 0.4629188137875356, 0.7508433683458209, 0.24607471735703373, 0.006309608137359839, 0.64505445901873, 0.34627626541147977, 0.009193175187915391, 0.964094905053364, 0.3716172408863805, 0.5574258613295707, 0.6539988554092946, 0.3338322515671324, 0.009761176946407381, 0.0019522353892814763, 0.6454487898270994, 0.3436805244533906, 0.010777438049061028, 0.3218562502206337, 0.5626148625903991, 0.0861662402165476, 0.030411614194075627, 0.14157329111544042, 0.7078664555772021, 0.14157329111544042, 0.6407531021229679, 0.36042361994416944, 0.9948248578341576, 0.9766290487154557, 0.15550043974829209, 0.8441452443478713, 0.965176230755555, 0.9622341704674159, 0.6893423604369147, 0.29709031022196997, 0.011605090243045702, 0.9764804659287557, 0.04438547572403435, 0.7951390948133367, 0.19103991239021725, 0.010326481750822555, 0.5085713334040487, 0.5085713334040487, 0.9948721697552875, 0.4902141531002919, 0.4902141531002919, 0.15487016114519864, 0.8202382608801261, 0.022943727577066465, 1.0016259823926552, 0.9537572215390506, 0.9948520147234705, 0.9531776740411013, 0.7805952116091408, 0.15611904232182816, 0.6127594627510201, 0.6458281357262655, 0.3451144100287232, 0.00807285169657832, 0.6132321685160784, 0.9489721761119719, 0.9167677884000536, 0.6442553734731792, 0.3443433892701475, 0.011107851266778952, 0.9166392763328048, 0.9660681073916001, 0.43181741236378457, 0.1850646052987648, 0.3701292105975296, 0.5359414030452697, 0.30984112363554656, 0.14235943518389976, 0.00837408442258234, 1.0015396815474495, 0.77899610019674, 0.22052463130569477, 0.9532679631790242, 0.09032604171067911, 0.912293021277859, 1.001609107026669, 0.6131790095329982, 0.7984896665056356, 0.19412822167338845, 0.007325593270693904, 0.9948414110869085, 0.5700272544433458, 0.41790160086916106, 0.011838572262582467, 0.0005919286131291233, 0.18002803367232567, 0.8101261515254655, 0.20934871294153837, 0.7823030852025907, 0.8336944592350809, 0.15683361114323305, 0.00825440058648595, 1.0014705224071867, 0.9490378120574948, 0.5460002558423341, 0.27300012792116707, 0.6466562552112639, 0.3427074160110168, 0.008159700381214685, 0.6836162093910003, 0.13264195107586574, 0.17345485909920905, 0.8011424980854741, 0.18447360153283943, 0.010541348659019395, 0.1984272274358192, 0.7937089097432768, 0.3204335994682721, 0.6031691284108651, 0.018849035262839535, 0.056547105788518605, 0.8122033774632815, 0.17636416196345542, 0.009282324313866075, 0.004641162156933038, 0.09506313014836447, 0.9189435914341899, 0.5349058660816485, 0.4450009689283904, 0.019224946561074045, 0.001130879209474944, 0.5995115964617094, 0.38540031201109887, 0.06739547060773766, 0.9098388532044586, 0.6316741473744618, 0.3158370736872309, 0.07895926842180773, 0.772132588430983, 0.1720054694110388, 0.2150068367637985, 0.6020191429386358, 0.9995683967949348, 0.0672376418371567, 0.22412547279052236, 0.7172015129296716, 0.6155202842699757, 0.34422461395192955, 0.04084020843497469, 0.28927479006778245, 0.5785495801355649, 0.07231869751694561, 0.07231869751694561, 0.9723021263924319, 0.05401678479957955, 0.7533594467913693, 0.2603053366134828, 0.7270597332997278, 0.008976046090120097, 0.9499036887468306, 0.9475464258003271, 0.2763153947063935, 0.7098447208836661, 0.009528117058841155, 0.0047640585294205775, 0.7435296394996366, 0.2488933962731834, 0.006301098639827429, 0.07860815870414803, 0.9170951848817269, 0.9445738926135251, 1.0016249310733591, 0.9532481060912719, 0.7737362129145419, 0.22142290337425796, 0.004975795581444, 0.9177695635726878, 0.8490204336375112, 0.1443334737183769, 0.6635823248861392, 0.3202890688117099, 0.014156422930904303, 0.9766439991708497, 0.9690111990820025, 0.22938589433879789, 0.773252450271109, 0.9967718232709798, 0.9489840004981814, 0.5009151601456548, 0.4575667328253578, 0.0385319353958196, 0.002408245962238725, 1.0197678232336032, 0.9948380804738068, 0.8649475019754693, 0.5581753885681661, 0.41134006112500887, 0.029165921204462732, 0.002011442841687085, 0.5146824355303776, 0.44545614303213965, 0.03912790445552578, 0.606859325518928, 0.303429662759464, 0.043347094679923426, 0.043347094679923426, 0.7303527670911331, 0.24923017274623233, 0.019504970041009487, 0.0021672188934454984, 0.44356438102873413, 0.5914191747049788, 0.7123231339645958, 0.2745165566109406, 0.009466088158997951, 0.002366522039749488, 0.5288430859576065, 0.18665050092621407, 0.2799757513893211, 0.9531872982277373, 0.9948314531938219, 0.6962146751564771, 0.260031987106636, 0.025164385849029292, 0.016776257232686196, 0.648286281336862, 0.19116133936856186, 0.15791588904359458, 0.43397292369881574, 0.5523291756166746, 0.01315069465753987, 1.001578707193997, 0.9767008942570636, 0.9766699529149709, 0.7786671661058061, 0.1709269389012745, 0.018991882100141612, 0.018991882100141612, 0.9766667667408055], \"Term\": [\"15th\", \"15th\", \"15th\", \"15th\", \"2\", \"2\", \"2\", \"3\", \"3\", \"3\", \"3\", \"5\", \"5\", \"5\", \"50th\", \"50th\", \"50th\", \"9am\", \"advise\", \"alcoholic\", \"alcoholic\", \"alcoholic\", \"always\", \"always\", \"always\", \"amazing\", \"amazing\", \"amazing\", \"amazing\", \"appreciate\", \"appreciate\", \"area\", \"area\", \"area\", \"area\", \"around\", \"around\", \"around\", \"asked\", \"asked\", \"asked\", \"avenue\", \"avenue\", \"awesome\", \"awesome\", \"awesome\", \"babes\", \"balcony\", \"balcony\", \"balcony\", \"banging\", \"bar\", \"bar\", \"bar\", \"bartender\", \"bartender\", \"bartender\", \"bathroom\", \"bathroom\", \"bathroom\", \"bathtub\", \"bathtub\", \"bay\", \"bay\", \"bayside\", \"beach\", \"beach\", \"beach\", \"beautiful\", \"beautiful\", \"beautiful\", \"beautiful\", \"bed\", \"bed\", \"bed\", \"best\", \"best\", \"best\", \"beverages\", \"beverages\", \"beverages\", \"bin\", \"biscayne\", \"bites\", \"blue\", \"blue\", \"blue\", \"blvd\", \"blvd\", \"blvd\", \"book\", \"book\", \"book\", \"bora\", \"boulevard\", \"boulevard\", \"box\", \"box\", \"breakfast\", \"breakfast\", \"breakfast\", \"brickell\", \"brickell\", \"bryant\", \"bryant\", \"bthank\", \"bthank\", \"bthe\", \"bthe\", \"bthis\", \"bugs\", \"bugs\", \"burgers\", \"burgers\", \"challenges\", \"check\", \"check\", \"check\", \"chelsea\", \"chicago\", \"chicago\", \"chrysler\", \"clean\", \"clean\", \"clean\", \"close\", \"close\", \"close\", \"closed\", \"closed\", \"closed\", \"closed\", \"coffee\", \"coffee\", \"coffee\", \"coffee\", \"colin\", \"colin\", \"comedy\", \"comfortable\", \"comfortable\", \"comfortable\", \"comments\", \"comments\", \"como\", \"complimentary\", \"complimentary\", \"complimentary\", \"concert\", \"concert\", \"concert\", \"concert\", \"constantly\", \"constantly\", \"cool\", \"cool\", \"cool\", \"cosmopolitan\", \"cosmopolitan\", \"cray\", \"cruise\", \"cruise\", \"curtained\", \"day\", \"day\", \"day\", \"day\", \"daybeds\", \"deck\", \"deck\", \"deck\", \"deck\", \"definitely\", \"definitely\", \"definitely\", \"delighted\", \"delighted\", \"delights\", \"desk\", \"desk\", \"desk\", \"diamond\", \"diamond\", \"diamond\", \"diaper\", \"dieron\", \"dino\", \"door\", \"door\", \"door\", \"downtown\", \"downtown\", \"downtown\", \"drinks\", \"drinks\", \"drinks\", \"drinks\", \"earn\", \"egg\", \"either\", \"either\", \"ellis\", \"emily\", \"emily\", \"en\", \"en\", \"en\", \"enjoyed\", \"enjoyed\", \"enjoyed\", \"enjoyed\", \"entradas\", \"escalator\", \"estaba\", \"even\", \"even\", \"even\", \"event\", \"event\", \"event\", \"event\", \"everything\", \"everything\", \"everything\", \"excellent\", \"excellent\", \"excellent\", \"exhibit\", \"exhibit\", \"experience\", \"experience\", \"experience\", \"extracts\", \"faces\", \"feedback\", \"feedback\", \"ferree\", \"fhad\", \"fin\", \"first\", \"first\", \"first\", \"flavors\", \"flavors\", \"food\", \"food\", \"food\", \"fort\", \"fort\", \"francis\", \"francisco\", \"francisco\", \"free\", \"free\", \"free\", \"friendly\", \"friendly\", \"friendly\", \"front\", \"front\", \"front\", \"front\", \"fue\", \"furnishings\", \"furnishings\", \"fwe\", \"fwe\", \"gallery\", \"garbage\", \"gauge\", \"go\", \"go\", \"go\", \"go\", \"going\", \"going\", \"going\", \"gracias\", \"gracias\", \"gracious\", \"grand\", \"grand\", \"gym\", \"gym\", \"gym\", \"gym\", \"hammer\", \"handicap\", \"heading\", \"heading\", \"hear\", \"hear\", \"hello\", \"helpful\", \"helpful\", \"helpful\", \"hermosa\", \"hip\", \"hip\", \"hip\", \"historic\", \"historic\", \"hollywood\", \"hollywood\", \"hollywood\", \"hr\", \"hr\", \"hr\", \"insider\", \"instructor\", \"it\", \"it\", \"iwe\", \"iwe\", \"jake\", \"jazz\", \"joaquin\", \"jorge\", \"jorge\", \"joyous\", \"kiana\", \"la\", \"la\", \"la\", \"la\", \"lakeshore\", \"lather\", \"lather\", \"lauderdale\", \"lauderdale\", \"liberty\", \"liberty\", \"library\", \"likings\", \"little\", \"little\", \"little\", \"little\", \"lobby\", \"lobby\", \"lobby\", \"loop\", \"lounges\", \"loved\", \"loved\", \"loved\", \"loved\", \"m\", \"m\", \"made\", \"made\", \"made\", \"memorial\", \"memorial\", \"miami\", \"miami\", \"miami\", \"midtown\", \"midtown\", \"mobile\", \"mobile\", \"modern\", \"modern\", \"modern\", \"moscone\", \"mover\", \"music\", \"music\", \"music\", \"music\", \"never\", \"never\", \"never\", \"new\", \"new\", \"new\", \"next\", \"next\", \"next\", \"nightclubs\", \"notate\", \"nuts\", \"nyc\", \"nyc\", \"observations\", \"outdated\", \"outdated\", \"park\", \"park\", \"park\", \"parking\", \"parking\", \"parking\", \"penn\", \"penthouse\", \"penthouse\", \"people\", \"people\", \"people\", \"people\", \"place\", \"place\", \"place\", \"pool\", \"pool\", \"pool\", \"pool\", \"pools\", \"pools\", \"pools\", \"poor\", \"poor\", \"pops\", \"por\", \"port\", \"port\", \"powell\", \"presented\", \"pretty\", \"pretty\", \"pretty\", \"print\", \"print\", \"put\", \"put\", \"put\", \"questioning\", \"questioning\", \"raced\", \"rap\", \"rap\", \"really\", \"really\", \"really\", \"refresh\", \"registration\", \"reigns\", \"reminds\", \"residence\", \"residence\", \"residents\", \"restaurant\", \"restaurant\", \"restaurant\", \"restaurantes\", \"revolving\", \"rh\", \"right\", \"right\", \"right\", \"riot\", \"rocha\", \"rock\", \"rock\", \"rock\", \"rooftop\", \"rooftop\", \"rooftop\", \"rooftop\", \"roomthank\", \"said\", \"said\", \"salads\", \"san\", \"san\", \"sara\", \"savor\", \"say\", \"say\", \"say\", \"sequence\", \"service\", \"service\", \"service\", \"service\", \"sf\", \"sf\", \"share\", \"share\", \"shower\", \"shower\", \"shower\", \"shutters\", \"sierra\", \"slider\", \"slider\", \"small\", \"small\", \"small\", \"snacks\", \"snacks\", \"snacks\", \"someone\", \"someone\", \"someone\", \"south\", \"south\", \"spa\", \"spa\", \"spa\", \"spa\", \"space\", \"space\", \"space\", \"space\", \"st\", \"st\", \"staff\", \"staff\", \"staff\", \"staff\", \"stained\", \"stained\", \"statue\", \"statue\", \"staycation\", \"staycation\", \"staycation\", \"stephanie\", \"strip\", \"strip\", \"strip\", \"studios\", \"sunset\", \"sunset\", \"sunset\", \"super\", \"super\", \"super\", \"swimming\", \"swimming\", \"swimming\", \"swimming\", \"talked\", \"talked\", \"tambi\", \"team\", \"team\", \"team\", \"tenderloin\", \"terrace\", \"thank\", \"thank\", \"thank\", \"thank\", \"though\", \"though\", \"though\", \"thrilled\", \"thrilled\", \"thus\", \"tlc\", \"toast\", \"told\", \"told\", \"told\", \"tree\", \"trying\", \"trying\", \"two\", \"two\", \"two\", \"tx\", \"ucla\", \"union\", \"union\", \"universal\", \"uses\", \"valet\", \"valet\", \"valet\", \"valet\", \"verythe\", \"vibrancy\", \"viceroy\", \"view\", \"view\", \"view\", \"view\", \"views\", \"views\", \"views\", \"vip\", \"vip\", \"vip\", \"vip\", \"water\", \"water\", \"water\", \"water\", \"weho\", \"weho\", \"went\", \"went\", \"went\", \"went\", \"west\", \"west\", \"west\", \"westwood\", \"whereabouts\", \"whole\", \"whole\", \"whole\", \"whole\", \"wine\", \"wine\", \"wine\", \"wonderful\", \"wonderful\", \"wonderful\", \"wtc\", \"x92_\", \"x92_n\", \"yelp\", \"yelp\", \"yelp\", \"yelp\", \"zona\"]}, \"mdsDat\": {\"y\": [0.012104342281928004, 0.02587650896872824, -0.0725783866464072, 0.04856343277512388, -0.0025106503075872084, -0.005744802262552423, -0.005710444809233389], \"cluster\": [1, 1, 1, 1, 1, 1, 1], \"Freq\": [62.11474820231909, 35.260397930512426, 2.0111538791563777, 0.5173933970207902, 0.08690263440785782, 0.004701978589508105, 0.0047019779939429995], \"topics\": [1, 2, 3, 4, 5, 6, 7], \"x\": [0.20718732129658637, 0.19318150624201078, 0.07105655259445501, -0.08533699535446493, -0.1295195913305194, -0.12800180982782206, -0.12856698362024568]}, \"R\": 30, \"lambda.step\": 0.01, \"tinfo\": {\"Category\": [\"Default\", \"Default\", \"Default\", \"Default\", \"Default\", \"Default\", \"Default\", \"Default\", \"Default\", \"Default\", \"Default\", \"Default\", \"Default\", \"Default\", \"Default\", \"Default\", \"Default\", \"Default\", \"Default\", \"Default\", \"Default\", \"Default\", \"Default\", \"Default\", \"Default\", \"Default\", \"Default\", \"Default\", \"Default\", \"Default\", \"Topic1\", \"Topic1\", \"Topic1\", \"Topic1\", \"Topic1\", \"Topic1\", \"Topic1\", \"Topic1\", \"Topic1\", \"Topic1\", \"Topic1\", \"Topic1\", \"Topic1\", \"Topic1\", \"Topic1\", \"Topic1\", \"Topic1\", \"Topic1\", \"Topic1\", \"Topic1\", \"Topic1\", \"Topic1\", \"Topic1\", \"Topic1\", \"Topic1\", \"Topic1\", \"Topic1\", \"Topic1\", \"Topic1\", \"Topic1\", \"Topic1\", \"Topic1\", \"Topic1\", \"Topic1\", \"Topic1\", \"Topic1\", \"Topic1\", \"Topic1\", \"Topic1\", \"Topic1\", \"Topic1\", \"Topic1\", \"Topic1\", \"Topic1\", \"Topic1\", \"Topic1\", \"Topic1\", \"Topic1\", \"Topic1\", \"Topic1\", \"Topic1\", \"Topic1\", \"Topic1\", \"Topic1\", \"Topic1\", \"Topic1\", \"Topic1\", \"Topic1\", \"Topic1\", \"Topic1\", \"Topic1\", \"Topic1\", \"Topic1\", \"Topic1\", \"Topic1\", \"Topic1\", \"Topic1\", \"Topic1\", \"Topic1\", \"Topic1\", \"Topic1\", \"Topic1\", \"Topic1\", \"Topic1\", \"Topic1\", \"Topic1\", \"Topic1\", \"Topic1\", \"Topic1\", \"Topic1\", \"Topic1\", \"Topic1\", \"Topic1\", \"Topic1\", \"Topic1\", \"Topic1\", \"Topic1\", \"Topic1\", \"Topic1\", \"Topic1\", \"Topic1\", \"Topic1\", \"Topic1\", \"Topic2\", \"Topic2\", \"Topic2\", \"Topic2\", \"Topic2\", \"Topic2\", \"Topic2\", \"Topic2\", \"Topic2\", \"Topic2\", \"Topic2\", \"Topic2\", \"Topic2\", \"Topic2\", \"Topic2\", \"Topic2\", \"Topic2\", \"Topic2\", \"Topic2\", \"Topic2\", \"Topic2\", \"Topic2\", \"Topic2\", \"Topic2\", \"Topic2\", \"Topic2\", \"Topic2\", \"Topic2\", \"Topic2\", \"Topic2\", \"Topic2\", \"Topic2\", \"Topic2\", \"Topic2\", \"Topic2\", \"Topic2\", \"Topic2\", \"Topic2\", \"Topic2\", \"Topic2\", \"Topic2\", \"Topic2\", \"Topic2\", \"Topic2\", \"Topic2\", \"Topic2\", \"Topic2\", \"Topic2\", \"Topic2\", \"Topic2\", \"Topic2\", \"Topic2\", \"Topic2\", \"Topic2\", \"Topic2\", \"Topic2\", \"Topic2\", \"Topic2\", \"Topic2\", \"Topic2\", \"Topic2\", \"Topic2\", \"Topic2\", \"Topic2\", \"Topic2\", \"Topic2\", \"Topic2\", \"Topic2\", \"Topic2\", \"Topic2\", \"Topic2\", \"Topic2\", \"Topic2\", \"Topic2\", \"Topic2\", \"Topic2\", \"Topic2\", \"Topic2\", \"Topic2\", \"Topic2\", \"Topic2\", \"Topic2\", \"Topic2\", \"Topic2\", \"Topic2\", \"Topic2\", \"Topic2\", \"Topic3\", \"Topic3\", \"Topic3\", \"Topic3\", \"Topic3\", \"Topic3\", \"Topic3\", \"Topic3\", \"Topic3\", \"Topic3\", \"Topic3\", \"Topic3\", \"Topic3\", \"Topic3\", \"Topic3\", \"Topic3\", \"Topic3\", \"Topic3\", \"Topic3\", \"Topic3\", \"Topic3\", \"Topic3\", \"Topic3\", \"Topic3\", \"Topic3\", \"Topic3\", \"Topic3\", \"Topic3\", \"Topic3\", \"Topic3\", \"Topic3\", \"Topic3\", \"Topic3\", \"Topic3\", \"Topic3\", \"Topic3\", \"Topic3\", \"Topic3\", \"Topic3\", \"Topic3\", \"Topic3\", \"Topic3\", \"Topic3\", \"Topic3\", \"Topic3\", \"Topic3\", \"Topic3\", \"Topic3\", \"Topic3\", \"Topic3\", \"Topic3\", \"Topic3\", \"Topic3\", \"Topic3\", \"Topic3\", \"Topic3\", \"Topic3\", \"Topic3\", \"Topic3\", \"Topic3\", \"Topic3\", \"Topic3\", \"Topic3\", \"Topic3\", \"Topic3\", \"Topic3\", \"Topic3\", \"Topic3\", \"Topic3\", \"Topic3\", \"Topic3\", \"Topic3\", \"Topic3\", \"Topic4\", \"Topic4\", \"Topic4\", \"Topic4\", \"Topic4\", \"Topic4\", \"Topic4\", \"Topic4\", \"Topic4\", \"Topic4\", \"Topic4\", \"Topic4\", \"Topic4\", \"Topic4\", \"Topic4\", \"Topic4\", \"Topic4\", \"Topic4\", \"Topic4\", \"Topic4\", \"Topic4\", \"Topic4\", \"Topic4\", \"Topic4\", \"Topic4\", \"Topic4\", \"Topic4\", \"Topic4\", \"Topic4\", \"Topic4\", \"Topic4\", \"Topic4\", \"Topic4\", \"Topic4\", \"Topic4\", \"Topic4\", \"Topic4\", \"Topic4\", \"Topic4\", \"Topic4\", \"Topic4\", \"Topic4\", \"Topic4\", \"Topic4\", \"Topic4\", \"Topic4\", \"Topic4\", \"Topic4\", \"Topic4\", \"Topic4\", \"Topic4\", \"Topic4\", \"Topic4\", \"Topic4\", \"Topic4\", \"Topic4\", \"Topic4\", \"Topic4\", \"Topic4\", \"Topic4\", \"Topic4\", \"Topic4\", \"Topic4\", \"Topic4\", \"Topic4\", \"Topic4\", \"Topic5\", \"Topic5\", \"Topic5\", \"Topic5\", \"Topic5\", \"Topic5\", \"Topic5\", \"Topic5\", \"Topic5\", \"Topic5\", \"Topic5\", \"Topic5\", \"Topic5\", \"Topic5\", \"Topic5\", \"Topic5\", \"Topic5\", \"Topic5\", \"Topic5\", \"Topic5\", \"Topic5\", \"Topic5\", \"Topic5\", \"Topic5\", \"Topic5\", \"Topic5\", \"Topic5\", \"Topic5\", \"Topic5\", \"Topic5\", \"Topic5\", \"Topic5\", \"Topic5\", \"Topic5\", \"Topic5\", \"Topic5\", \"Topic5\", \"Topic5\", \"Topic5\", \"Topic5\", \"Topic6\", \"Topic6\", \"Topic6\", \"Topic6\", \"Topic6\", \"Topic6\", \"Topic6\", \"Topic6\", \"Topic6\", \"Topic6\", \"Topic6\", \"Topic6\", \"Topic6\", \"Topic6\", \"Topic6\", \"Topic6\", \"Topic6\", \"Topic6\", \"Topic6\", \"Topic6\", \"Topic6\", \"Topic6\", \"Topic6\", \"Topic6\", \"Topic6\", \"Topic6\", \"Topic6\", \"Topic6\", \"Topic6\", \"Topic6\", \"Topic6\", \"Topic6\", \"Topic6\", \"Topic6\", \"Topic6\", \"Topic6\", \"Topic6\", \"Topic6\", \"Topic6\", \"Topic6\", \"Topic6\", \"Topic6\", \"Topic6\", \"Topic6\", \"Topic6\", \"Topic6\", \"Topic6\", \"Topic6\", \"Topic6\", \"Topic6\", \"Topic6\", \"Topic6\", \"Topic6\", \"Topic6\", \"Topic6\", \"Topic6\", \"Topic6\", \"Topic6\", \"Topic6\", \"Topic6\", \"Topic6\", \"Topic6\", \"Topic6\", \"Topic6\", \"Topic6\", \"Topic6\", \"Topic6\", \"Topic6\", \"Topic6\", \"Topic6\", \"Topic6\", \"Topic6\", \"Topic6\", \"Topic6\", \"Topic6\", \"Topic7\", \"Topic7\", \"Topic7\", \"Topic7\", \"Topic7\", \"Topic7\", \"Topic7\", \"Topic7\", \"Topic7\", \"Topic7\", \"Topic7\", \"Topic7\", \"Topic7\", \"Topic7\", \"Topic7\", \"Topic7\", \"Topic7\", \"Topic7\", \"Topic7\", \"Topic7\", \"Topic7\", \"Topic7\", \"Topic7\", \"Topic7\", \"Topic7\", \"Topic7\", \"Topic7\", \"Topic7\", \"Topic7\", \"Topic7\", \"Topic7\", \"Topic7\", \"Topic7\", \"Topic7\", \"Topic7\", \"Topic7\", \"Topic7\", \"Topic7\", \"Topic7\", \"Topic7\", \"Topic7\", \"Topic7\", \"Topic7\", \"Topic7\", \"Topic7\", \"Topic7\", \"Topic7\", \"Topic7\", \"Topic7\", \"Topic7\", \"Topic7\", \"Topic7\", \"Topic7\", \"Topic7\", \"Topic7\", \"Topic7\", \"Topic7\", \"Topic7\", \"Topic7\", \"Topic7\", \"Topic7\", \"Topic7\", \"Topic7\", \"Topic7\", \"Topic7\", \"Topic7\", \"Topic7\", \"Topic7\", \"Topic7\", \"Topic7\", \"Topic7\", \"Topic7\"], \"Term\": [\"staff\", \"view\", \"pool\", \"amazing\", \"beautiful\", \"service\", \"free\", \"friendly\", \"valet\", \"miami\", \"area\", \"definitely\", \"water\", \"loved\", \"day\", \"super\", \"hollywood\", \"views\", \"experience\", \"complimentary\", \"la\", \"3\", \"comfortable\", \"everything\", \"clean\", \"modern\", \"gym\", \"drinks\", \"coffee\", \"place\", \"universal\", \"studios\", \"library\", \"garbage\", \"loop\", \"ucla\", \"bites\", \"chelsea\", \"penn\", \"gracious\", \"registration\", \"faces\", \"9am\", \"lakeshore\", \"presented\", \"terrace\", \"handicap\", \"chrysler\", \"westwood\", \"reminds\", \"banging\", \"toast\", \"salads\", \"escalator\", \"observations\", \"nuts\", \"sierra\", \"thus\", \"uses\", \"revolving\", \"constantly\", \"bathtub\", \"hello\", \"egg\", \"diamond\", \"grand\", \"it\", \"bugs\", \"print\", \"bryant\", \"avenue\", \"talked\", \"shower\", \"midtown\", \"box\", \"either\", \"heading\", \"2\", \"chicago\", \"never\", \"trying\", \"bathroom\", \"say\", \"asked\", \"told\", \"space\", \"said\", \"nyc\", \"book\", \"even\", \"someone\", \"desk\", \"door\", \"going\", \"put\", \"water\", \"new\", \"front\", \"go\", \"park\", \"bed\", \"bar\", \"food\", \"place\", \"went\", \"though\", \"service\", \"day\", \"lobby\", \"clean\", \"staff\", \"parking\", \"two\", \"right\", \"view\", \"free\", \"first\", \"breakfast\", \"comfortable\", \"people\", \"area\", \"experience\", \"friendly\", \"francis\", \"biscayne\", \"powell\", \"moscone\", \"mover\", \"jazz\", \"verythe\", \"tree\", \"bthis\", \"tenderloin\", \"cruise\", \"delighted\", \"sara\", \"delights\", \"wtc\", \"fin\", \"advise\", \"ellis\", \"refresh\", \"tlc\", \"earn\", \"roomthank\", \"lounges\", \"francisco\", \"challenges\", \"lauderdale\", \"shutters\", \"insider\", \"iwe\", \"dino\", \"miami\", \"beach\", \"liberty\", \"san\", \"bayside\", \"comments\", \"thrilled\", \"fort\", \"bthank\", \"st\", \"statue\", \"check\", \"bay\", \"fwe\", \"really\", \"sf\", \"union\", \"feedback\", \"historic\", \"share\", \"south\", \"memorial\", \"thank\", \"port\", \"team\", \"appreciate\", \"hollywood\", \"staff\", \"enjoyed\", \"pool\", \"service\", \"excellent\", \"friendly\", \"wonderful\", \"downtown\", \"view\", \"area\", \"clean\", \"amazing\", \"helpful\", \"hear\", \"comfortable\", \"valet\", \"lobby\", \"experience\", \"place\", \"close\", \"front\", \"bar\", \"day\", \"desk\", \"parking\", \"best\", \"bed\", \"right\", \"always\", \"first\", \"cray\", \"comedy\", \"rh\", \"riot\", \"fhad\", \"kiana\", \"notate\", \"instructor\", \"joaquin\", \"jake\", \"diaper\", \"gallery\", \"bin\", \"bora\", \"sunset\", \"reigns\", \"ferree\", \"pops\", \"sequence\", \"raced\", \"likings\", \"gauge\", \"extracts\", \"joyous\", \"daybeds\", \"nightclubs\", \"whereabouts\", \"vibrancy\", \"hammer\", \"curtained\", \"strip\", \"colin\", \"penthouse\", \"weho\", \"lather\", \"exhibit\", \"west\", \"rock\", \"hollywood\", \"blvd\", \"alcoholic\", \"boulevard\", \"snacks\", \"emily\", \"wine\", \"rooftop\", \"complimentary\", \"pool\", \"la\", \"beverages\", \"deck\", \"loved\", \"cool\", \"free\", \"view\", \"hip\", \"staff\", \"amazing\", \"valet\", \"awesome\", \"super\", \"views\", \"beautiful\", \"definitely\", \"service\", \"friendly\", \"modern\", \"area\", \"experience\", \"everything\", \"drinks\", \"comfortable\", \"clean\", \"viceroy\", \"restaurantes\", \"savor\", \"residents\", \"tambi\", \"estaba\", \"entradas\", \"x92_\", \"fue\", \"dieron\", \"hermosa\", \"zona\", \"x92_n\", \"como\", \"babes\", \"por\", \"tx\", \"rocha\", \"m\", \"skied\", \"vez\", \"lleno\", \"gente\", \"spill\", \"belvedere\", \"ellos\", \"pase\", \"empresas\", \"steroid\", \"tienen\", \"15th\", \"brickell\", \"slider\", \"jorge\", \"en\", \"50th\", \"cosmopolitan\", \"questioning\", \"gracias\", \"flavors\", \"rap\", \"pool\", \"spa\", \"burgers\", \"beautiful\", \"vip\", \"amazing\", \"blue\", \"miami\", \"la\", \"balcony\", \"swimming\", \"staycation\", \"music\", \"gym\", \"view\", \"bartender\", \"residence\", \"pools\", \"whole\", \"yelp\", \"closed\", \"event\", \"staff\", \"water\", \"day\", \"jaime\", \"hyservice\", \"contacts\", \"gastro\", \"statium\", \"wa\", \"stayrooms\", \"theyonce\", \"staffexcellentshort\", \"fairgreat\", \"overnightonly\", \"regencyterrible\", \"dirtythe\", \"tradeshow\", \"bricking\", \"insincere\", \"recommhyatt\", \"breakdownrriblebaseball\", \"daphne\", \"fbooked\", \"industrial\", \"fidelia\", \"outdatedvery\", \"locationfamily\", \"fitbstaying\", \"glitter\", \"standardit\", \"againnot\", \"heinekens\", \"comfyfabulous\", \"stephanie\", \"hr\", \"poor\", \"stained\", \"bthe\", \"mobile\", \"furnishings\", \"outdated\", \"concert\", \"miami\", \"hyservice\", \"stayrooms\", \"overnightonly\", \"dirtythe\", \"statium\", \"staffexcellentshort\", \"wa\", \"recommhyatt\", \"tradeshow\", \"contacts\", \"insincere\", \"bricking\", \"theyonce\", \"locationfamily\", \"gastro\", \"fairgreat\", \"breakdownrriblebaseball\", \"glitter\", \"standardit\", \"fidelia\", \"passengers\", \"regencyterrible\", \"miamicouples\", \"againnot\", \"drearyhad\", \"comfyfabulous\", \"overalldum\", \"daphne\", \"regencywonderful\", \"fbooked\", \"staysolid\", \"collaborative\", \"sitegreat\", \"impressivelyexcellent\", \"hoteloutdated\", \"impressedgood\", \"getawaybrickell\", \"bathroomchecked\", \"intercostal\", \"dehumidify\", \"unattractive\", \"cspecials\", \"regencylove\", \"portecochere\", \"staff\", \"service\", \"clean\", \"lobby\", \"area\", \"desk\", \"place\", \"front\", \"parking\", \"two\", \"food\", \"small\", \"bar\", \"5\", \"never\", \"even\", \"first\", \"day\", \"restaurant\", \"right\", \"valet\", \"bed\", \"view\", \"everything\", \"free\", \"went\", \"definitely\", \"pool\", \"next\", \"friendly\", \"people\", \"theyonce\", \"standardit\", \"1995\", \"hyservice\", \"fairgreat\", \"stayrooms\", \"wa\", \"insincere\", \"staffexcellentshort\", \"dirtythe\", \"statium\", \"contacts\", \"tradeshow\", \"locationfamily\", \"gastro\", \"fitbstaying\", \"recommhyatt\", \"devoted\", \"overnightonly\", \"industrial\", \"breakdownrriblebaseball\", \"alana\", \"regencyterrible\", \"passengers\", \"excellentight\", \"daphne\", \"overalldum\", \"seriouslyi\", \"staysolid\", \"fbooked\", \"impressivelyexcellent\", \"drearyhad\", \"sitegreat\", \"collaborative\", \"manatees\", \"contiguous\", \"glories\", \"hotelwon\", \"getawaybrickell\", \"hoteloutdated\", \"25pmstayed\", \"betternot\", \"clean\", \"service\", \"staff\", \"place\", \"view\", \"desk\", \"comfortable\", \"bed\", \"day\", \"area\", \"front\", \"bar\", \"parking\", \"food\", \"right\", \"pretty\", \"lobby\", \"everything\", \"bathroom\", \"friendly\", \"small\", \"around\", \"made\", \"two\", \"new\", \"even\", \"little\", \"never\", \"amazing\", \"go\"], \"loglift\": [30.0, 29.0, 28.0, 27.0, 26.0, 25.0, 24.0, 23.0, 22.0, 21.0, 20.0, 19.0, 18.0, 17.0, 16.0, 15.0, 14.0, 13.0, 12.0, 11.0, 10.0, 9.0, 8.0, 7.0, 6.0, 5.0, 4.0, 3.0, 2.0, 1.0, 0.4741, 0.4726, 0.4698, 0.4616, 0.4613, 0.4601, 0.4597, 0.4582, 0.4569, 0.4554, 0.4543, 0.454, 0.4535, 0.4519, 0.4517, 0.4512, 0.451, 0.4496, 0.4496, 0.4495, 0.4492, 0.4488, 0.4478, 0.4472, 0.4468, 0.4467, 0.4466, 0.4466, 0.4463, 0.4462, 0.4417, 0.4423, 0.4459, 0.4459, 0.4301, 0.4067, 0.4345, 0.4281, 0.4323, 0.4267, 0.3949, 0.432, 0.295, 0.3867, 0.4146, 0.3201, 0.4093, 0.232, 0.2513, 0.2237, 0.3166, 0.2002, 0.2503, 0.2408, 0.2196, 0.2655, 0.2246, 0.2232, 0.2945, 0.1484, 0.2573, 0.1125, 0.1959, 0.1888, 0.2487, 0.1609, 0.1445, 0.0711, 0.1126, 0.1879, 0.082, 0.0587, 0.095, 0.0376, 0.1384, 0.1796, -0.0861, 0.0403, 0.025, -0.0346, -0.1496, 0.0371, 0.0664, 0.0358, -0.1076, 0.082, 0.0469, 0.0509, -0.0572, 0.053, -0.1325, -0.0481, -0.1834, 1.0346, 1.0299, 1.0161, 1.0152, 1.0137, 1.0128, 1.0112, 1.0091, 1.0082, 1.0052, 1.0044, 1.0034, 1.001, 1.0009, 1.0008, 1.0008, 1.0008, 1.0007, 1.0007, 1.0006, 1.0006, 1.0005, 1.0005, 0.9988, 0.9985, 0.9978, 0.9974, 0.9969, 0.9955, 0.9944, 0.9848, 0.9899, 0.9932, 0.949, 0.9928, 0.9476, 0.9573, 0.9755, 0.979, 0.955, 0.9527, 0.8406, 0.8722, 0.9332, 0.8455, 0.8352, 0.7835, 0.8346, 0.9328, 0.8029, 0.8142, 0.8624, 0.6993, 0.8665, 0.722, 0.7193, 0.6464, 0.2328, 0.5067, 0.466, 0.1698, 0.4297, 0.2734, 0.4517, 0.4443, 0.1529, 0.2154, 0.1015, 0.2785, 0.2487, 0.4473, 0.119, 0.2608, 0.0024, 0.0981, -0.0256, 0.1676, -0.0792, -0.0631, -0.0361, -0.1667, -0.0179, 0.2353, -0.0955, -0.0221, 0.1967, -0.0338, 3.7781, 3.778, 3.7405, 3.7404, 3.7403, 3.6719, 3.6718, 3.6718, 3.6718, 3.6718, 3.6718, 3.6717, 3.6716, 3.6714, 3.5678, 3.504, 3.504, 3.504, 3.5039, 3.5039, 3.5039, 3.5039, 3.5039, 3.5039, 3.5039, 3.5039, 3.5039, 3.5039, 3.5039, 3.5039, 3.4104, 3.4624, 3.3249, 3.2789, 3.3538, 3.3537, 2.6361, 2.8965, 2.3202, 2.6456, 2.6888, 2.7754, 2.1629, 3.0758, 2.0428, 1.967, 1.7904, 1.4553, 1.5598, 2.2963, 2.4356, 1.206, 1.3166, 0.7276, 0.361, 1.9572, -0.049, 0.641, 0.6631, 1.0065, 0.677, 0.683, 0.5459, 0.4282, -0.5218, -0.0484, 0.4477, -0.1286, -0.0698, 0.0834, 0.6815, -0.2656, -0.7518, 5.1413, 5.0033, 5.0032, 5.0021, 4.9328, 4.8095, 4.8095, 4.8095, 4.8095, 4.8095, 4.8094, 4.8094, 4.8094, 4.8094, 4.8094, 4.8094, 4.8094, 4.7902, 4.546, 4.5325, 4.5324, 4.5324, 4.5324, 4.5324, 4.5324, 4.5324, 4.5324, 4.5324, 4.5324, 4.5324, 4.0657, 3.9308, 4.1871, 4.0973, 3.9484, 3.7562, 4.1543, 4.1543, 4.1543, 4.1543, 4.114, 1.7374, 2.3815, 3.7302, 0.7556, 2.5169, 0.3468, 2.4964, 0.6262, 0.9278, 1.5057, 2.8352, 2.8738, 1.435, 0.5867, -0.7319, 1.662, 3.3361, 3.2456, 0.9315, 1.5933, 1.0538, 0.5149, -1.6991, -0.5841, -1.1545, 5.7517, 5.2614, 5.2614, 5.2614, 5.2614, 5.2614, 5.2613, 5.2613, 5.2613, 5.2613, 5.2613, 5.2613, 5.2613, 5.2613, 5.2613, 5.2613, 5.2613, 5.2612, 5.2612, 5.2612, 5.2612, 5.2612, 5.2612, 5.2612, 5.2612, 5.2612, 5.2612, 5.2612, 5.2612, 5.2611, 4.2136, 2.9759, 0.8895, 1.8873, 2.1939, 2.3242, 1.9293, 0.8628, 1.8795, -0.8798, 3.2671, 3.2671, 3.2671, 3.267, 3.267, 3.267, 3.267, 3.267, 3.267, 3.267, 3.267, 3.267, 3.267, 3.267, 3.267, 3.267, 3.267, 3.2669, 3.2669, 3.2669, 3.2669, 3.2669, 3.2669, 3.2669, 3.2669, 3.2669, 3.2669, 3.2669, 3.2669, 3.2669, 3.2669, 3.2669, 3.2669, 3.2669, 3.2668, 3.2668, 3.2668, 3.2668, 3.2667, 3.2667, 3.2668, 3.2668, 3.2666, 3.2667, -4.3756, -4.3689, -4.0057, -3.79, -3.7006, -3.9173, -3.827, -3.9011, -3.6279, -3.5165, -3.5871, -3.3795, -3.8806, -3.3468, -3.329, -3.6708, -3.5219, -3.8258, -3.4048, -3.639, -3.2365, -3.7671, -4.0892, -3.4256, -3.4465, -3.2652, -3.3094, -3.2048, -3.4692, -3.887, -3.4644, 3.268, 3.2679, 3.2679, 3.2679, 3.2679, 3.2679, 3.2679, 3.2679, 3.2679, 3.2679, 3.2679, 3.2679, 3.2678, 3.2678, 3.2678, 3.2678, 3.2678, 3.2678, 3.2678, 3.2678, 3.2678, 3.2678, 3.2678, 3.2678, 3.2677, 3.2677, 3.2677, 3.2677, 3.2677, 3.2677, 3.2677, 3.2677, 3.2677, 3.2677, 3.2677, 3.2676, 3.2675, 3.2675, 3.2676, 3.2677, 3.2675, 3.2676, -3.9215, -4.402, -4.4514, -3.8256, -4.0004, -3.9434, -3.6452, -3.7274, -3.8085, -3.774, -3.9429, -3.8834, -3.6722, -3.6107, -3.6514, -3.2958, -3.9476, -3.4491, -3.6583, -3.9081, -3.4397, -3.4189, -3.3706, -3.585, -3.5016, -3.7293, -3.4377, -3.3947, -3.3808, -3.623], \"Freq\": [1768.0, 994.0, 394.0, 456.0, 394.0, 1689.0, 509.0, 792.0, 415.0, 262.0, 737.0, 441.0, 461.0, 248.0, 765.0, 342.0, 159.0, 332.0, 621.0, 171.0, 171.0, 475.0, 657.0, 501.0, 1060.0, 354.0, 210.0, 224.0, 344.0, 835.0, 141.1564282923899, 84.73585315049121, 43.45882840522098, 19.273432057161216, 26.209055143821892, 17.262947035585423, 33.09296753287832, 15.251968904562803, 14.244600542312247, 16.190554180423256, 16.41285515977877, 13.216339408880255, 12.225201107643496, 11.223080563314795, 13.18314657103125, 13.380755414346847, 12.192949355913088, 10.216679889834158, 10.216046291634001, 10.214674240371554, 10.211823763764283, 10.207448592158908, 10.196939505882426, 11.166458306531323, 9.209807140936713, 9.208787951681902, 9.20706227599075, 12.333906828460233, 9.204650728433043, 9.203372353905271, 40.11439245722191, 24.369476032083025, 13.10139433697037, 12.126634203386015, 50.843776918098214, 127.60292839781455, 30.772704802172637, 29.12108480349615, 21.562073696249243, 25.256433656592662, 53.03417494121251, 17.71260479646095, 303.21662083265045, 41.59264056894597, 23.815003165479084, 104.13989543265313, 25.56595182247532, 334.7051141884098, 258.01283390816843, 360.05267519837116, 100.41042083720313, 467.71031205059717, 217.8199132253566, 244.3630553795003, 310.98043979949574, 174.52540412040813, 271.5084046235499, 274.3765789795223, 106.42930836399009, 471.1920353628938, 152.43512315567085, 642.0005514106166, 274.5834452926063, 291.9160522428445, 154.2704613069035, 336.6556043546376, 372.0492301127031, 584.1685740403002, 406.13311841882086, 237.58177082763058, 481.5749815413977, 541.0474061278023, 414.94244411468395, 538.5611152834806, 301.43270232357656, 235.95107344124355, 962.7545739878859, 494.8976314274406, 536.2426647894443, 636.4600314930036, 945.9294662396442, 420.7047094340909, 375.1259190609427, 405.6978798901634, 554.5830747574994, 343.5674792694565, 364.8832750198752, 359.9281323728735, 385.5745933353387, 335.4776452697681, 401.5116885363551, 368.18862200789135, 409.8324717146835, 37.67481376588536, 27.300834135965662, 14.127918458909132, 10.456232515990676, 10.400923485716659, 9.518188050438482, 9.505234179032376, 9.485150079030578, 11.297802223491393, 12.171224227935747, 114.50221714864952, 28.446429366456478, 6.7049549889258095, 6.704964005014132, 6.704141448116503, 6.70324185446593, 6.703752526027099, 6.703914312038061, 6.703083168195938, 6.702735363999608, 6.701977366301388, 6.702490365233804, 6.701931006341989, 181.56076968541151, 6.689526628723631, 28.294720578737657, 6.682319257107122, 9.378685915414302, 16.555444685499374, 5.766619077125307, 247.86361583898415, 103.08086352917698, 25.48696090875001, 201.68239314954647, 10.23953216495806, 48.23782969831528, 35.050040489254556, 18.89355621150252, 15.417578346133343, 28.91542521716106, 27.129773086580496, 221.76043122799, 119.33139990612618, 27.485095293904894, 143.17801197956786, 108.35880572660842, 208.62677389143352, 84.53537100896013, 22.390568566979443, 71.43086828572565, 60.16928230449471, 39.98858853857145, 148.93977413644936, 37.75559210834386, 80.86916864116792, 81.92953147963809, 107.49631674270563, 787.0186587569141, 205.52814962311422, 221.72173846299518, 705.8945041567221, 217.07239094395956, 367.3709002807747, 168.49291039237218, 167.04905843536838, 408.5402021819044, 322.7583851142218, 413.9859774435492, 212.6486576922069, 217.25721193069626, 137.3357130234311, 261.0452235625933, 190.03352661193975, 297.61481957740864, 241.8991065898954, 287.0047958832687, 213.6042014762329, 285.34691012431614, 271.9094647510353, 260.27801863464873, 275.6654730252739, 226.05492270366253, 191.96132111497488, 228.932606006979, 217.35524461056815, 190.75217800167022, 191.08819795532526, 2.4360589285629133, 2.43619077148351, 1.847895474375551, 1.848039525085593, 1.8480840258199966, 1.2601658447073327, 1.2601713299183608, 1.2601369130152775, 1.2601058257740503, 1.2600945955228036, 1.2600034992340112, 1.2601069596962933, 1.2598912211682138, 1.2599322781401723, 31.800913813304938, 0.6721178710638597, 0.6721435751723417, 0.6721278448899427, 0.6721037160237234, 0.6720803368541968, 0.6721000483990908, 0.6720722442027067, 0.6720959659515183, 0.6720753372618518, 0.6721010141905907, 0.6721029088709295, 0.6721030635601509, 0.672095935528513, 0.6720866095010404, 0.6720779706791008, 14.160966555804489, 2.4268350990124197, 3.0085756452291914, 3.6108239617781974, 1.8388328181601117, 1.8387113361548655, 18.04818827332136, 5.904709925168728, 32.696864851445355, 8.232213742391016, 5.265273456491306, 4.1915982054557945, 17.141476824369782, 1.83339499748788, 18.662007316769287, 17.170156370251814, 20.69079199502301, 34.009169275053125, 16.422272283855346, 6.342337824686325, 5.312773613632231, 16.69246286881051, 12.870544206303103, 21.21598709313914, 28.691352962066574, 6.3659263345805845, 33.86658221653277, 17.42812537404211, 16.207558090231572, 11.362648386868807, 13.567028043863663, 13.229177331957743, 13.702557747304441, 13.634626826039728, 20.162423471548625, 15.18798039440863, 11.16346237027284, 13.050863858678587, 11.664704335276063, 10.963648596436665, 8.918377065346823, 10.135475212800198, 10.058351635901776, 3.0675069325154416, 1.2562738758047292, 1.2562872641264016, 1.255728835796708, 0.9530520829285061, 0.6498340559289537, 0.6498124648391596, 0.649812475360809, 0.6498197075081676, 0.6498032722235684, 0.6498148501101458, 0.649810536814384, 0.6498031862923043, 0.6497991673160699, 0.6497974411036425, 0.6497989928459074, 0.6497862313663125, 0.644422663196214, 1.254754503660667, 0.3465806817155653, 0.3465829464305335, 0.3465763197717181, 0.3465785012799416, 0.3465788164454711, 0.3465784348182495, 0.34657319587350927, 0.34657387379264903, 0.3465772957516867, 0.34657509857846713, 0.3465747130743371, 3.8929185165326747, 6.782537338945884, 1.2476512441723244, 1.334051324885874, 1.2446102848370462, 1.8174934407992507, 0.6481297989749312, 0.6481181793733479, 0.6480963785175899, 0.6481098504786046, 0.6458259700804839, 11.601160723770743, 2.970402689472973, 0.9400640327489415, 4.347390883576519, 1.4788786562254568, 3.340809594207745, 1.4799108280667932, 2.5408800213434906, 2.2456119931292977, 1.8587759478511177, 1.2186459953722588, 1.1600829343123409, 1.6248557003728274, 1.961947509188331, 2.4744779431493518, 1.384774298939476, 0.9315263237988498, 0.9384140960659142, 1.5655950554673392, 1.340358737547508, 1.477625273489456, 1.532079144258507, 1.6730586721631253, 1.33118816669898, 1.2480672313129246, 0.15356117315920007, 0.08191693775641441, 0.08191666277279006, 0.08191661951233405, 0.08191505788225152, 0.08191453861603532, 0.08191409045261913, 0.08191377957076316, 0.08191398466898898, 0.08191454782366252, 0.08191445942150398, 0.08191490119720883, 0.08191390303250454, 0.0819132626453798, 0.08191467388268335, 0.08191289135813253, 0.08191254346002905, 0.08191215806627378, 0.08191214013754697, 0.0819120726682019, 0.08191080724745603, 0.08191116384758328, 0.0819107761909202, 0.08190895190728806, 0.08191009577640176, 0.08191049849512576, 0.08190823720263367, 0.08190973571431634, 0.0819099550030652, 0.08190943497733859, 0.15216254379789332, 0.14256935360417008, 0.21126353007521337, 0.13397266085668186, 0.11814503717277496, 0.11461473553449072, 0.1193704467018074, 0.1067678043813588, 0.09109433814404816, 0.0946550097872876, 0.0006032345612605661, 0.0006032559014789895, 0.0006032612486036764, 0.000603256270924161, 0.0006032402136937671, 0.0006032406707084492, 0.0006032363789602372, 0.0006032605052865607, 0.0006032400032249748, 0.0006032035556354041, 0.0006032324242222314, 0.0006032370221578522, 0.0006032061232611613, 0.000603263592752278, 0.0006031905432293858, 0.0006032011321813574, 0.0006032375887766715, 0.0006032559226736735, 0.0006032479924899909, 0.0006032442065207427, 0.0006032811469348042, 0.0006031977145138811, 0.0006032627564131037, 0.0006032482345987173, 0.0006032871704456621, 0.000603250602212394, 0.000603253150014736, 0.0006032094343560674, 0.0006032551435791165, 0.0006032135926145663, 0.0006032684726365137, 0.0006032646677130717, 0.0006032657391869783, 0.0006032526822590605, 0.000603259862026044, 0.0006032524933527006, 0.0006032783632962548, 0.0006032609727818565, 0.0006032883610376055, 0.000603265924032648, 0.0006032519526531708, 0.0006032579262917249, 0.000603268819223204, 0.0006032583650764963, 0.0010461136807529642, 0.001006069207127297, 0.0009083029537260624, 0.0008945821427964037, 0.0008573550149418358, 0.0008639743551981352, 0.0008550159912461175, 0.0008328297909562016, 0.000815437495459837, 0.0007892547698449679, 0.0007906070215906772, 0.0007851641109585505, 0.0007970727374871794, 0.0007814963012736814, 0.0007808192987675385, 0.0007827635620699616, 0.0007786490953828065, 0.0007844558884644999, 0.0007737701909062496, 0.0007786606457481439, 0.0007673602466359983, 0.0007765015433062896, 0.0007832515601863978, 0.0007670774177721902, 0.000763309521295328, 0.000758796879195563, 0.0007590106824042136, 0.0007526381793945061, 0.0007560348514967947, 0.0007642290015875041, 0.0007536395871383999, 0.0006038253620832368, 0.0006038461269994436, 0.0006038687409126774, 0.0006037325947725879, 0.0006037655115841371, 0.0006037540449505501, 0.0006037498502499005, 0.000603765420794065, 0.0006037477821273409, 0.0006037512592348539, 0.0006037356931190721, 0.0006037184781313034, 0.0006037437942528652, 0.0006037779976282968, 0.0006037059498048493, 0.0006037837141433694, 0.0006037237176266043, 0.0006038513122962896, 0.0006037014478091314, 0.0006037467313960891, 0.0006037335267350313, 0.0006037770212200589, 0.0006036949819293932, 0.0006037746066813488, 0.0006037556183218299, 0.0006037188398111251, 0.0006037612129361257, 0.0006037618253814991, 0.0006037909889002712, 0.0006037241728347162, 0.0006037696602572224, 0.0006037702536201271, 0.0006037695758365681, 0.0006037614312549952, 0.0006037801658048723, 0.0006037734522163072, 0.0006037950065962635, 0.0006037870604888137, 0.000603770089062202, 0.0006037586264934483, 0.0006037747811161399, 0.000603763059404502, 0.0009881177117308903, 0.0009732915705682497, 0.0009698056080737267, 0.0008562175889970429, 0.0008559184139928924, 0.0008417019535895391, 0.0008071089496418288, 0.0008079347850649762, 0.0007981257273442974, 0.0007966733822508549, 0.0007986967847438278, 0.000794850117609691, 0.0007800962508064354, 0.0007722031180651012, 0.0007690371339578913, 0.0007503597532203548, 0.0007641498116526114, 0.000749278842279077, 0.0007470661182408792, 0.000748330625348195, 0.0007393401986293268, 0.0007379634380254597, 0.0007341383585676621, 0.000736984733537848, 0.0007349149502981591, 0.0007382862088335046, 0.0007324426108370673, 0.0007311650426156288, 0.0007302159083257801, 0.000733481900172873], \"Total\": [1768.0, 994.0, 394.0, 456.0, 394.0, 1689.0, 509.0, 792.0, 415.0, 262.0, 737.0, 441.0, 461.0, 248.0, 765.0, 342.0, 159.0, 332.0, 621.0, 171.0, 171.0, 475.0, 657.0, 501.0, 1060.0, 354.0, 210.0, 224.0, 344.0, 835.0, 141.45664705619203, 85.03670211318023, 43.73911596188643, 19.557290652975908, 26.603167454600737, 17.54365689076146, 33.64318471687437, 15.528688749569866, 14.52139195697241, 16.53132267651446, 16.775757644258, 13.512644877012793, 12.50590823235873, 11.498642993691817, 13.51022484857829, 13.719644384727426, 12.503405419693534, 10.491536718212517, 10.491117557475867, 10.491223485757805, 10.49106804715149, 10.490448327250615, 10.49022980553265, 11.49474509510822, 9.484190100066144, 9.48406128640719, 9.483289164725884, 12.704141088207942, 9.483826908857614, 9.48394507926865, 41.521847194602074, 25.209740639692832, 13.504164502743956, 12.4991366368644, 53.24181059172556, 136.78417111514932, 32.081178213045476, 30.556584344952245, 22.529892576064217, 26.537925207318164, 57.52761764450863, 18.512764203022016, 363.4425017985655, 45.48841990012035, 25.326856729301788, 121.72915599427452, 27.33537841906829, 427.259948360782, 323.083603940701, 463.4772194427654, 117.7827953699109, 616.3896325082382, 273.0154304363329, 309.2189465763464, 401.9457727440625, 215.46327540100813, 349.16734490879327, 353.3473675850781, 127.62924058967816, 653.9787960515265, 189.72904366356943, 923.6155578458099, 363.397784662985, 389.0931100523207, 193.67680573692877, 461.4208574059518, 518.4025013222478, 875.9541369762761, 584.1877774185947, 316.97689562649606, 714.2914173401482, 821.4064929679308, 607.5054178323272, 835.0778690659339, 422.56103395760334, 317.40496607346796, 1689.392906204823, 765.2713197859797, 842.0304373794468, 1060.708235449524, 1768.5354750916151, 652.658072684954, 565.1145094383645, 630.1848874170113, 994.3111275896424, 509.59081026969267, 560.5429077192144, 550.7263604114502, 657.2556716120449, 512.2333123814807, 737.963998170728, 621.9606066340317, 792.6169979470407, 37.969180273797754, 27.644808855787264, 14.505123058242516, 10.744263792576639, 10.704382741905277, 9.804349478757363, 9.806153687307754, 9.806383167649246, 11.690565739195083, 12.632859670048353, 118.93519153194593, 29.57892803972444, 6.988754346273748, 6.989187576627382, 6.9889664683578, 6.988143837192875, 6.9887335616849215, 6.989173594622969, 6.988636599939832, 6.988643935308874, 6.9882334019459895, 6.989238797992013, 6.988754505042666, 189.6521847838685, 6.989977794301858, 29.586363617067008, 6.989721457976053, 9.815634355303986, 17.35062086477532, 6.050239604447386, 262.5542247252318, 108.64347152248952, 26.77291726354361, 221.42008684562373, 10.760081333146093, 53.03538512660077, 38.16397749870835, 20.20001909597148, 16.426864422412997, 31.557976213469065, 29.675584753174498, 271.3399785762962, 141.47580548628883, 30.656580042762627, 174.33958743470365, 133.31257088372752, 270.2868900405331, 104.05903829443082, 24.98379556672643, 90.75766329313828, 75.59446449883856, 47.87535812267803, 209.90506179226637, 45.01594986696418, 111.40762758568013, 113.18258461219085, 159.73223745447305, 1768.5354750916151, 351.1730050491156, 394.5860921232414, 1689.392906204823, 400.5867156956962, 792.6169979470407, 304.16644171010574, 303.8033212503186, 994.3111275896424, 737.963998170728, 1060.708235449524, 456.4894304632784, 480.5040144306547, 249.02186192339852, 657.2556716120449, 415.23997784279135, 842.0304373794468, 621.9606066340317, 835.0778690659339, 512.3248056481102, 875.9541369762761, 821.4064929679308, 765.2713197859797, 923.6155578458099, 652.658072684954, 430.27827776713457, 714.2914173401482, 630.1848874170113, 444.37206321580925, 560.5429077192144, 2.769787231965508, 2.7701025564820196, 2.181577521926689, 2.181883377288165, 2.182097138268641, 1.593375718938189, 1.5934172652197696, 1.5934014530399143, 1.59340548333986, 1.593392196490239, 1.5932931990352421, 1.5936179482473067, 1.593381772972634, 1.593778936896996, 44.617864607234736, 1.0051746241655453, 1.0052192074581594, 1.0052020635844476, 1.005185337939899, 1.0051542604171688, 1.0051848745650183, 1.0051440883443354, 1.0051819712345174, 1.0051512715510844, 1.005189956213683, 1.005195012192071, 1.0051953994715235, 1.0051887031945286, 1.0051765836702193, 1.0051651807572772, 23.255074467668596, 3.7835564716443275, 5.381881624301405, 6.763392482151672, 3.1957015611248347, 3.195788729270325, 64.29128205095893, 16.210555201286905, 159.73223745447305, 29.046025558464322, 17.79359767734241, 12.988973959191611, 98.00820852344471, 4.207338574383751, 120.31721516480727, 119.41603995576, 171.69761508105273, 394.5860921232414, 171.62810679136973, 31.734824818426965, 23.127144485211524, 248.48225131354098, 171.535272653466, 509.59081026969267, 994.3111275896424, 44.71167035324237, 1768.5354750916151, 456.4894304632784, 415.23997784279135, 206.4911815258389, 342.799425774005, 332.2437064007933, 394.69043908098405, 441.79791142123867, 1689.392906204823, 792.6169979470407, 354.7447116356081, 737.963998170728, 621.9606066340317, 501.50976810603987, 224.32291603772734, 657.2556716120449, 1060.708235449524, 3.468418595519665, 1.6307037551859624, 1.6308451275290843, 1.6319617415787273, 1.327387615910435, 1.023841641908224, 1.0238419618738275, 1.0238549036659366, 1.0238840804814255, 1.0238645735981458, 1.0238889516875582, 1.0238906800699883, 1.023887339848429, 1.0238885964603321, 1.0238996278945096, 1.0239302233691325, 1.0239145490567485, 1.035123706443448, 2.5728665748198463, 0.7203810497642381, 0.7203939464677552, 0.7203864286962217, 0.7203944290625429, 0.7203976109585026, 0.7203993283196639, 0.720390920723724, 0.7203950722122703, 0.7204058060906079, 0.7204025112098428, 0.7204023441592144, 12.905164443352193, 25.729424736394183, 3.663001946609949, 4.284608057655268, 4.639141771164413, 8.21028468958186, 1.9663186321443376, 1.9662925027776235, 1.9662231733265132, 1.9663168196867002, 2.039924783231242, 394.5860921232414, 53.053113119878255, 4.358595537456316, 394.69043908098405, 23.069596875731524, 456.4894304632784, 23.564714519597032, 262.5542247252318, 171.62810679136973, 79.70625082051409, 13.827682664855537, 12.66475766540677, 74.77590326598126, 210.90410039945567, 994.3111275896424, 50.78793166199285, 6.405368526016013, 7.063479220699821, 119.21610239161565, 52.654075816558674, 99.55496464907189, 176.9516876534635, 1768.5354750916151, 461.4208574059518, 765.2713197859797, 0.5614363935935486, 0.4890284094233356, 0.4890396885844712, 0.48904023319109236, 0.48905067114513323, 0.4890493771035958, 0.4890479370990164, 0.4890493084896105, 0.4890514003144209, 0.4890570158072041, 0.4890580085256358, 0.4890686099173514, 0.4890631613365818, 0.48906353864665714, 0.4890732730802231, 0.48906411052365784, 0.48907024963405754, 0.4890906208336818, 0.48909138335732955, 0.4890984749159358, 0.48910026638183546, 0.48910384960927505, 0.48910661431299984, 0.4890967390515192, 0.4891035931618779, 0.48910978647862463, 0.4891050649037194, 0.48911537899116836, 0.48911787563354353, 0.48912160733592375, 2.5902287119678666, 8.367353546393776, 99.88246609802236, 23.352342277659638, 15.15633373610815, 12.906603408905207, 19.951918534383424, 51.84494404890445, 16.00350310265796, 262.5542247252318, 0.4890284094233356, 0.4890479370990164, 0.4890580085256358, 0.4890631613365818, 0.48905067114513323, 0.4890514003144209, 0.4890493771035958, 0.48907024963405754, 0.48906353864665714, 0.4890396885844712, 0.48906411052365784, 0.4890732730802231, 0.4890493084896105, 0.4890967390515192, 0.48904023319109236, 0.4890570158072041, 0.4890906208336818, 0.48910978647862463, 0.4891050649037194, 0.48910384960927505, 0.4891341764313108, 0.4890686099173514, 0.4891234864490093, 0.48911537899116836, 0.48914923759695206, 0.48912160733592375, 0.489126300802624, 0.48909138335732955, 0.4891302215036537, 0.4890984749159358, 0.489151404908543, 0.48914843736911634, 0.4891510920357973, 0.4891390339508701, 0.48916075237252005, 0.4891530844634958, 0.48921369663819503, 0.48917458873145414, 0.48927359310273977, 0.48921504390707854, 0.48915686759205346, 0.48920229570846346, 0.4892860182872054, 0.4892242031873913, 1768.5354750916151, 1689.392906204823, 1060.708235449524, 842.0304373794468, 737.963998170728, 923.6155578458099, 835.0778690659339, 875.9541369762761, 652.658072684954, 565.1145094383645, 607.5054178323272, 490.21407810620417, 821.4064929679308, 472.2017020694428, 463.4772194427654, 653.9787960515265, 560.5429077192144, 765.2713197859797, 495.4878586083033, 630.1848874170113, 415.23997784279135, 714.2914173401482, 994.3111275896424, 501.50976810603987, 509.59081026969267, 422.56103395760334, 441.79791142123867, 394.5860921232414, 516.3338180653801, 792.6169979470407, 512.2333123814807, 0.4890493084896105, 0.4891050649037194, 0.48913566795441205, 0.4890284094233356, 0.4890570158072041, 0.4890479370990164, 0.4890493771035958, 0.48906411052365784, 0.4890514003144209, 0.4890631613365818, 0.48905067114513323, 0.4890396885844712, 0.48906353864665714, 0.4890967390515192, 0.48904023319109236, 0.4891035931618779, 0.48907024963405754, 0.4891761273042489, 0.4890580085256358, 0.48910026638183546, 0.4890906208336818, 0.4891331830506021, 0.4890686099173514, 0.4891341764313108, 0.4891196555711643, 0.48909138335732955, 0.489126300802624, 0.48912707412505124, 0.489151404908543, 0.4890984749159358, 0.4891390339508701, 0.48914923759695206, 0.4891510920357973, 0.48914843736911634, 0.48918537074405377, 0.48919790650183126, 0.4892600913533142, 0.48924638281734567, 0.48921369663819503, 0.48916075237252005, 0.48926127139932746, 0.48920756957142014, 1060.708235449524, 1689.392906204823, 1768.5354750916151, 835.0778690659339, 994.3111275896424, 923.6155578458099, 657.2556716120449, 714.2914173401482, 765.2713197859797, 737.963998170728, 875.9541369762761, 821.4064929679308, 652.658072684954, 607.5054178323272, 630.1848874170113, 430.84542173174634, 842.0304373794468, 501.50976810603987, 616.3896325082382, 792.6169979470407, 490.21407810620417, 479.26657314021185, 454.2812139284809, 565.1145094383645, 518.4025013222478, 653.9787960515265, 484.6936230745965, 463.4772194427654, 456.4894304632784, 584.1877774185947], \"logprob\": [30.0, 29.0, 28.0, 27.0, 26.0, 25.0, 24.0, 23.0, 22.0, 21.0, 20.0, 19.0, 18.0, 17.0, 16.0, 15.0, 14.0, 13.0, 12.0, 11.0, 10.0, 9.0, 8.0, 7.0, 6.0, 5.0, 4.0, 3.0, 2.0, 1.0, -6.841, -7.3513, -8.019, -8.8321, -8.5248, -8.9423, -8.2915, -9.0662, -9.1345, -9.0064, -8.9928, -9.2094, -9.2874, -9.3729, -9.2119, -9.197, -9.29, -9.4668, -9.4669, -9.467, -9.4673, -9.4677, -9.4688, -9.3779, -9.5706, -9.5707, -9.5709, -9.2785, -9.5712, -9.5713, -8.0991, -8.5975, -9.2181, -9.2955, -7.8621, -6.9419, -8.3642, -8.4194, -8.7199, -8.5618, -7.8199, -8.9166, -6.0764, -8.0629, -8.6205, -7.1451, -8.5496, -5.9776, -6.2379, -5.9046, -7.1816, -5.643, -6.4072, -6.2922, -6.0511, -6.6288, -6.1869, -6.1764, -7.1234, -5.6356, -6.7641, -5.3263, -6.1756, -6.1144, -6.7522, -5.9718, -5.8718, -5.4207, -5.7842, -6.3204, -5.6138, -5.4974, -5.7627, -5.502, -6.0823, -6.3272, -4.9211, -5.5865, -5.5063, -5.3349, -4.9387, -5.7489, -5.8636, -5.7853, -5.4726, -5.9515, -5.8913, -5.905, -5.8361, -5.9753, -5.7956, -5.8823, -5.7751, -7.5956, -7.9177, -8.5765, -8.8774, -8.8827, -8.9714, -8.9728, -8.9749, -8.8, -8.7256, -6.484, -7.8766, -9.3218, -9.3218, -9.3219, -9.322, -9.322, -9.3219, -9.3221, -9.3221, -9.3222, -9.3222, -9.3222, -6.0231, -9.3241, -7.882, -9.3252, -8.9862, -8.4179, -9.4726, -5.7118, -6.5891, -7.9865, -5.9179, -8.8984, -7.3485, -7.6679, -8.2858, -8.4891, -7.8603, -7.924, -5.823, -6.4427, -7.911, -6.2606, -6.5392, -5.8841, -6.7875, -8.116, -6.9559, -7.1275, -7.536, -6.2211, -7.5935, -6.8318, -6.8188, -6.5472, -4.5564, -5.8991, -5.8232, -4.6652, -5.8444, -5.3183, -6.0977, -6.1064, -5.2121, -5.4477, -5.1988, -5.865, -5.8436, -6.3022, -5.6599, -5.9774, -5.5288, -5.7361, -5.5651, -5.8605, -5.5709, -5.6192, -5.6629, -5.6055, -5.8039, -5.9673, -5.7912, -5.8431, -5.9737, -5.9719, -7.4702, -7.4702, -7.7465, -7.7465, -7.7464, -8.1293, -8.1293, -8.1294, -8.1294, -8.1294, -8.1295, -8.1294, -8.1296, -8.1295, -4.9011, -8.7579, -8.7579, -8.7579, -8.7579, -8.758, -8.7579, -8.758, -8.7579, -8.758, -8.7579, -8.7579, -8.7579, -8.7579, -8.758, -8.758, -5.7101, -7.474, -7.2591, -7.0767, -7.7515, -7.7515, -5.4675, -6.5848, -4.8733, -6.2525, -6.6995, -6.9275, -5.5191, -7.7544, -5.4341, -5.5174, -5.3309, -4.834, -5.562, -6.5133, -6.6905, -5.5456, -5.8056, -5.3058, -5.004, -6.5096, -4.8382, -5.5025, -5.5751, -5.9303, -5.7529, -5.7782, -5.743, -5.748, -5.3568, -5.6401, -5.9479, -5.7917, -5.904, -5.966, -6.1725, -6.0445, -6.0522, -5.8821, -6.7748, -6.7748, -6.7752, -7.051, -7.434, -7.434, -7.434, -7.434, -7.434, -7.434, -7.434, -7.434, -7.434, -7.434, -7.434, -7.434, -7.4423, -6.776, -8.0626, -8.0626, -8.0626, -8.0626, -8.0626, -8.0626, -8.0626, -8.0626, -8.0626, -8.0626, -8.0626, -5.6438, -5.0886, -6.7817, -6.7147, -6.7841, -6.4055, -7.4366, -7.4366, -7.4366, -7.4366, -7.4402, -4.5518, -5.9142, -7.0647, -5.5334, -6.6116, -5.7967, -6.6109, -6.0704, -6.194, -6.383, -6.8052, -6.8544, -6.5175, -6.329, -6.0969, -6.6774, -7.0739, -7.0665, -6.5547, -6.71, -6.6125, -6.5763, -6.4883, -6.7169, -6.7813, -7.0926, -7.721, -7.721, -7.721, -7.721, -7.721, -7.721, -7.721, -7.721, -7.721, -7.721, -7.721, -7.721, -7.721, -7.721, -7.721, -7.721, -7.721, -7.721, -7.721, -7.721, -7.721, -7.721, -7.7211, -7.721, -7.721, -7.7211, -7.7211, -7.721, -7.7211, -7.1017, -7.1668, -6.7736, -7.229, -7.3548, -7.3851, -7.3444, -7.456, -7.6148, -7.5764, -9.7153, -9.7153, -9.7153, -9.7153, -9.7153, -9.7153, -9.7153, -9.7153, -9.7153, -9.7154, -9.7153, -9.7153, -9.7154, -9.7153, -9.7154, -9.7154, -9.7153, -9.7153, -9.7153, -9.7153, -9.7152, -9.7154, -9.7153, -9.7153, -9.7152, -9.7153, -9.7153, -9.7154, -9.7153, -9.7153, -9.7153, -9.7153, -9.7153, -9.7153, -9.7153, -9.7153, -9.7152, -9.7153, -9.7152, -9.7153, -9.7153, -9.7153, -9.7153, -9.7153, -9.1648, -9.2038, -9.306, -9.3213, -9.3638, -9.3561, -9.3665, -9.3928, -9.4139, -9.4465, -9.4448, -9.4517, -9.4367, -9.4564, -9.4573, -9.4548, -9.4601, -9.4526, -9.4663, -9.46, -9.4747, -9.4628, -9.4542, -9.475, -9.48, -9.4859, -9.4856, -9.494, -9.4895, -9.4788, -9.4927, -9.7143, -9.7143, -9.7143, -9.7145, -9.7144, -9.7145, -9.7145, -9.7144, -9.7145, -9.7145, -9.7145, -9.7145, -9.7145, -9.7144, -9.7145, -9.7144, -9.7145, -9.7143, -9.7145, -9.7145, -9.7145, -9.7144, -9.7145, -9.7144, -9.7144, -9.7145, -9.7144, -9.7144, -9.7144, -9.7145, -9.7144, -9.7144, -9.7144, -9.7144, -9.7144, -9.7144, -9.7144, -9.7144, -9.7144, -9.7144, -9.7144, -9.7144, -9.2218, -9.2369, -9.2405, -9.3651, -9.3654, -9.3822, -9.4242, -9.4231, -9.4354, -9.4372, -9.4346, -9.4395, -9.4582, -9.4684, -9.4725, -9.4971, -9.4789, -9.4985, -9.5015, -9.4998, -9.5119, -9.5137, -9.5189, -9.5151, -9.5179, -9.5133, -9.5212, -9.523, -9.5243, -9.5198]}};\n",
       "\n",
       "function LDAvis_load_lib(url, callback){\n",
       "  var s = document.createElement('script');\n",
       "  s.src = url;\n",
       "  s.async = true;\n",
       "  s.onreadystatechange = s.onload = callback;\n",
       "  s.onerror = function(){console.warn(\"failed to load library \" + url);};\n",
       "  document.getElementsByTagName(\"head\")[0].appendChild(s);\n",
       "}\n",
       "\n",
       "if(typeof(LDAvis) !== \"undefined\"){\n",
       "   // already loaded: just create the visualization\n",
       "   !function(LDAvis){\n",
       "       new LDAvis(\"#\" + \"ldavis_el135548017840163275593306\", ldavis_el135548017840163275593306_data);\n",
       "   }(LDAvis);\n",
       "}else if(typeof define === \"function\" && define.amd){\n",
       "   // require.js is available: use it to load d3/LDAvis\n",
       "   require.config({paths: {d3: \"https://cdnjs.cloudflare.com/ajax/libs/d3/3.5.5/d3.min\"}});\n",
       "   require([\"d3\"], function(d3){\n",
       "      window.d3 = d3;\n",
       "      LDAvis_load_lib(\"https://cdn.rawgit.com/bmabey/pyLDAvis/files/ldavis.v1.0.0.js\", function(){\n",
       "        new LDAvis(\"#\" + \"ldavis_el135548017840163275593306\", ldavis_el135548017840163275593306_data);\n",
       "      });\n",
       "    });\n",
       "}else{\n",
       "    // require.js not available: dynamically load d3 & LDAvis\n",
       "    LDAvis_load_lib(\"https://cdnjs.cloudflare.com/ajax/libs/d3/3.5.5/d3.min.js\", function(){\n",
       "         LDAvis_load_lib(\"https://cdn.rawgit.com/bmabey/pyLDAvis/files/ldavis.v1.0.0.js\", function(){\n",
       "                 new LDAvis(\"#\" + \"ldavis_el135548017840163275593306\", ldavis_el135548017840163275593306_data);\n",
       "            })\n",
       "         });\n",
       "}\n",
       "</script>"
      ],
      "text/plain": [
       "PreparedData(topic_coordinates=            Freq  cluster  topics         x         y\n",
       "topic                                                \n",
       "6      62.114748        1       1  0.207187  0.012104\n",
       "2      35.260398        1       2  0.193182  0.025877\n",
       "4       2.011154        1       3  0.071057 -0.072578\n",
       "5       0.517393        1       4 -0.085337  0.048563\n",
       "1       0.086903        1       5 -0.129520 -0.002511\n",
       "3       0.004702        1       6 -0.128002 -0.005745\n",
       "0       0.004702        1       7 -0.128567 -0.005710, topic_info=      Category         Freq           Term        Total  loglift  logprob\n",
       "term                                                                     \n",
       "11817  Default  1768.000000          staff  1768.000000  30.0000  30.0000\n",
       "16023  Default   994.000000           view   994.000000  29.0000  29.0000\n",
       "6083   Default   394.000000           pool   394.000000  28.0000  28.0000\n",
       "8309   Default   456.000000        amazing   456.000000  27.0000  27.0000\n",
       "2259   Default   394.000000      beautiful   394.000000  26.0000  26.0000\n",
       "391    Default  1689.000000        service  1689.000000  25.0000  25.0000\n",
       "12705  Default   509.000000           free   509.000000  24.0000  24.0000\n",
       "7110   Default   792.000000       friendly   792.000000  23.0000  23.0000\n",
       "7167   Default   415.000000          valet   415.000000  22.0000  22.0000\n",
       "15269  Default   262.000000          miami   262.000000  21.0000  21.0000\n",
       "5989   Default   737.000000           area   737.000000  20.0000  20.0000\n",
       "15037  Default   441.000000     definitely   441.000000  19.0000  19.0000\n",
       "13489  Default   461.000000          water   461.000000  18.0000  18.0000\n",
       "11727  Default   248.000000          loved   248.000000  17.0000  17.0000\n",
       "11610  Default   765.000000            day   765.000000  16.0000  16.0000\n",
       "8996   Default   342.000000          super   342.000000  15.0000  15.0000\n",
       "8500   Default   159.000000      hollywood   159.000000  14.0000  14.0000\n",
       "9459   Default   332.000000          views   332.000000  13.0000  13.0000\n",
       "2191   Default   621.000000     experience   621.000000  12.0000  12.0000\n",
       "15332  Default   171.000000  complimentary   171.000000  11.0000  11.0000\n",
       "11585  Default   171.000000             la   171.000000  10.0000  10.0000\n",
       "5689   Default   475.000000              3   475.000000   9.0000   9.0000\n",
       "11744  Default   657.000000    comfortable   657.000000   8.0000   8.0000\n",
       "13210  Default   501.000000     everything   501.000000   7.0000   7.0000\n",
       "6592   Default  1060.000000          clean  1060.000000   6.0000   6.0000\n",
       "8539   Default   354.000000         modern   354.000000   5.0000   5.0000\n",
       "8507   Default   210.000000            gym   210.000000   4.0000   4.0000\n",
       "14926  Default   224.000000         drinks   224.000000   3.0000   3.0000\n",
       "4364   Default   344.000000         coffee   344.000000   2.0000   2.0000\n",
       "13767  Default   835.000000          place   835.000000   1.0000   1.0000\n",
       "...        ...          ...            ...          ...      ...      ...\n",
       "6592    Topic7     0.000988          clean  1060.708235  -3.9215  -9.2218\n",
       "391     Topic7     0.000973        service  1689.392906  -4.4020  -9.2369\n",
       "11817   Topic7     0.000970          staff  1768.535475  -4.4514  -9.2405\n",
       "13767   Topic7     0.000856          place   835.077869  -3.8256  -9.3651\n",
       "16023   Topic7     0.000856           view   994.311128  -4.0004  -9.3654\n",
       "3894    Topic7     0.000842           desk   923.615558  -3.9434  -9.3822\n",
       "11744   Topic7     0.000807    comfortable   657.255672  -3.6452  -9.4242\n",
       "7523    Topic7     0.000808            bed   714.291417  -3.7274  -9.4231\n",
       "11610   Topic7     0.000798            day   765.271320  -3.8085  -9.4354\n",
       "5989    Topic7     0.000797           area   737.963998  -3.7740  -9.4372\n",
       "7374    Topic7     0.000799          front   875.954137  -3.9429  -9.4346\n",
       "8651    Topic7     0.000795            bar   821.406493  -3.8834  -9.4395\n",
       "13970   Topic7     0.000780        parking   652.658073  -3.6722  -9.4582\n",
       "5812    Topic7     0.000772           food   607.505418  -3.6107  -9.4684\n",
       "832     Topic7     0.000769          right   630.184887  -3.6514  -9.4725\n",
       "6621    Topic7     0.000750         pretty   430.845422  -3.2958  -9.4971\n",
       "14852   Topic7     0.000764          lobby   842.030437  -3.9476  -9.4789\n",
       "13210   Topic7     0.000749     everything   501.509768  -3.4491  -9.4985\n",
       "13010   Topic7     0.000747       bathroom   616.389633  -3.6583  -9.5015\n",
       "7110    Topic7     0.000748       friendly   792.616998  -3.9081  -9.4998\n",
       "2138    Topic7     0.000739          small   490.214078  -3.4397  -9.5119\n",
       "1818    Topic7     0.000738         around   479.266573  -3.4189  -9.5137\n",
       "16399   Topic7     0.000734           made   454.281214  -3.3706  -9.5189\n",
       "10391   Topic7     0.000737            two   565.114509  -3.5850  -9.5151\n",
       "8182    Topic7     0.000735            new   518.402501  -3.5016  -9.5179\n",
       "8171    Topic7     0.000738           even   653.978796  -3.7293  -9.5133\n",
       "9567    Topic7     0.000732         little   484.693623  -3.4377  -9.5212\n",
       "8190    Topic7     0.000731          never   463.477219  -3.3947  -9.5230\n",
       "8309    Topic7     0.000730        amazing   456.489430  -3.3808  -9.5243\n",
       "7094    Topic7     0.000733             go   584.187777  -3.6230  -9.5198\n",
       "\n",
       "[536 rows x 6 columns], token_table=       Topic      Freq         Term\n",
       "term                               \n",
       "2671       1  0.309953         15th\n",
       "2671       2  0.387442         15th\n",
       "2671       3  0.077488         15th\n",
       "2671       4  0.309953         15th\n",
       "1445       1  0.784066            2\n",
       "1445       2  0.205964            2\n",
       "1445       3  0.009362            2\n",
       "5689       1  0.657576            3\n",
       "5689       2  0.323536            3\n",
       "5689       3  0.016807            3\n",
       "5689       4  0.002101            3\n",
       "14391      1  0.669206            5\n",
       "14391      2  0.321896            5\n",
       "14391      3  0.008471            5\n",
       "11392      1  0.487194         50th\n",
       "11392      2  0.365395         50th\n",
       "11392      4  0.243597         50th\n",
       "11555      1  0.959546          9am\n",
       "8389       2  1.001612       advise\n",
       "5784       1  0.618200    alcoholic\n",
       "5784       2  0.056200    alcoholic\n",
       "5784       3  0.281000    alcoholic\n",
       "2381       1  0.562592       always\n",
       "2381       2  0.429820       always\n",
       "2381       3  0.006751       always\n",
       "8309       1  0.488511      amazing\n",
       "8309       2  0.466604      amazing\n",
       "8309       3  0.037241      amazing\n",
       "8309       4  0.006572      amazing\n",
       "4323       1  0.273894   appreciate\n",
       "...      ...       ...          ...\n",
       "13489      4  0.002167        water\n",
       "6607       2  0.443564         weho\n",
       "6607       3  0.591419         weho\n",
       "8404       1  0.712323         went\n",
       "8404       2  0.274517         went\n",
       "8404       3  0.009466         went\n",
       "8404       4  0.002367         went\n",
       "5524       1  0.528843         west\n",
       "5524       2  0.186651         west\n",
       "5524       3  0.279976         west\n",
       "11307      1  0.953187     westwood\n",
       "9776       3  0.994831  whereabouts\n",
       "2698       1  0.696215        whole\n",
       "2698       2  0.260032        whole\n",
       "2698       3  0.025164        whole\n",
       "2698       4  0.016776        whole\n",
       "239        1  0.648286         wine\n",
       "239        2  0.191161         wine\n",
       "239        3  0.157916         wine\n",
       "7287       1  0.433973    wonderful\n",
       "7287       2  0.552329    wonderful\n",
       "7287       3  0.013151    wonderful\n",
       "619        2  1.001579          wtc\n",
       "13675      4  0.976701         x92_\n",
       "16109      4  0.976670        x92_n\n",
       "12319      1  0.778667         yelp\n",
       "12319      2  0.170927         yelp\n",
       "12319      3  0.018992         yelp\n",
       "12319      4  0.018992         yelp\n",
       "14553      4  0.976667         zona\n",
       "\n",
       "[619 rows x 3 columns], R=30, lambda_step=0.01, plot_opts={'xlab': 'PC1', 'ylab': 'PC2'}, topic_order=[7, 3, 5, 6, 2, 4, 1])"
      ]
     },
     "execution_count": 108,
     "metadata": {},
     "output_type": "execute_result"
    }
   ],
   "source": [
    "#TripA and Yelp pyLDAvis\n",
    "pyLDAvis.enable_notebook()\n",
    "pyLDAvis.gensim.prepare(TY_ldamodel, TY_corpus, TY_dict)"
   ]
  },
  {
   "cell_type": "code",
   "execution_count": null,
   "metadata": {
    "collapsed": true
   },
   "outputs": [],
   "source": []
  }
 ],
 "metadata": {
  "kernelspec": {
   "display_name": "Python 2",
   "language": "python",
   "name": "python2"
  },
  "language_info": {
   "codemirror_mode": {
    "name": "ipython",
    "version": 2
   },
   "file_extension": ".py",
   "mimetype": "text/x-python",
   "name": "python",
   "nbconvert_exporter": "python",
   "pygments_lexer": "ipython2",
   "version": "2.7.13"
  }
 },
 "nbformat": 4,
 "nbformat_minor": 2
}
